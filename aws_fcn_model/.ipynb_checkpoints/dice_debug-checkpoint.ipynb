{
 "cells": [
  {
   "cell_type": "code",
   "execution_count": 1,
   "metadata": {
    "collapsed": true
   },
   "outputs": [],
   "source": [
    "import numpy as np"
   ]
  },
  {
   "cell_type": "code",
   "execution_count": 2,
   "metadata": {
    "collapsed": true
   },
   "outputs": [],
   "source": [
    "test_pred = np.array([[0,1],[1,0]])"
   ]
  },
  {
   "cell_type": "code",
   "execution_count": 3,
   "metadata": {
    "collapsed": true
   },
   "outputs": [],
   "source": [
    "#identical:\n",
    "test_mask1 = np.array([[0,1],[1,0]])\n",
    "#empty mask\n",
    "test_mask2 = np.array([[0,0],[0,0]])\n",
    "# false positive\n",
    "test_mask3 = np.array([[0,1],[0,0]])\n",
    "#false negative\n",
    "test_mask4 = np.array([[0,1],[1,1]])\n",
    "#bit of both\n",
    "test_mask4 = np.array([[0,1],[0,1]])"
   ]
  },
  {
   "cell_type": "code",
   "execution_count": null,
   "metadata": {
    "collapsed": true
   },
   "outputs": [],
   "source": [
    "  # Dice scores for the eval data\n",
    "    def ndice(pred_batch,label_batch,sh=(2,2)):\n",
    "      n_batch = pred_batch.shape[0]\n",
    "      preds = pred_batch.reshape([n_batch,sh[0],sh[1]])\n",
    "      labels = label_batch.reshape([n_batch,sh[0],sh[1]])\n",
    "      denoms = np.sum(preds,axis=(1,2)) + np.sum(labels,axis=(1,2))\n",
    "      cap = np.logical_and(preds, labels)\n",
    "      numerators = 2*np.sum(cap, axis=(1,2))\n",
    "      zero_denoms = np.where(denoms ==0)\n",
    "      nonzero_denoms = np.where (denoms !=0)\n",
    "      result = np.empty(denoms.shape)\n",
    "      result[zero_denoms] = 1\n",
    "      result[nonzero_denoms] = np.divide(numerators[nonzero_denoms],denoms[nonzero_denoms])\n",
    "      return result.mean()"
   ]
  }
 ],
 "metadata": {
  "anaconda-cloud": {},
  "kernelspec": {
   "display_name": "Python [CDIPS]",
   "language": "python",
   "name": "Python [CDIPS]"
  },
  "language_info": {
   "codemirror_mode": {
    "name": "ipython",
    "version": 3
   },
   "file_extension": ".py",
   "mimetype": "text/x-python",
   "name": "python",
   "nbconvert_exporter": "python",
   "pygments_lexer": "ipython3",
   "version": "3.5.2"
  }
 },
 "nbformat": 4,
 "nbformat_minor": 0
}
