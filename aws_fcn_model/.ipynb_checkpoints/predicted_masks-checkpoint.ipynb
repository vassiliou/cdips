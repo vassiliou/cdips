{
 "cells": [
  {
   "cell_type": "code",
   "execution_count": 194,
   "metadata": {
    "collapsed": true
   },
   "outputs": [],
   "source": [
    "import numpy as np\n",
    "import matplotlib.pyplot as plt\n",
    "%matplotlib inline\n"
   ]
  },
  {
   "cell_type": "code",
   "execution_count": 195,
   "metadata": {
    "collapsed": false
   },
   "outputs": [],
   "source": [
    "eval_output0 = np.load('/Users/gus/CDIPS/fcn_eval_log/chunk_0.npy')\n",
    "eval_output1 = np.load('/Users/gus/CDIPS/fcn_eval_log/chunk_1.npy')\n",
    "eval_output2 = np.load('/Users/gus/CDIPS/fcn_eval_log/chunk_2.npy')\n",
    "eval_output3 = np.load('/Users/gus/CDIPS/fcn_eval_log/chunk_3.npy')\n",
    "eval_output4 = np.load('/Users/gus/CDIPS/fcn_eval_log/chunk_4.npy')\n"
   ]
  },
  {
   "cell_type": "code",
   "execution_count": 196,
   "metadata": {
    "collapsed": false
   },
   "outputs": [],
   "source": [
    "total_output = np.concatenate((eval_output1,eval_output2,eval_output3,eval_output4))"
   ]
  },
  {
   "cell_type": "code",
   "execution_count": 197,
   "metadata": {
    "collapsed": false
   },
   "outputs": [
    {
     "data": {
      "text/plain": [
       "(16, 2, 416, 576)"
      ]
     },
     "execution_count": 197,
     "metadata": {},
     "output_type": "execute_result"
    }
   ],
   "source": [
    "total_output.shape"
   ]
  },
  {
   "cell_type": "code",
   "execution_count": 207,
   "metadata": {
    "collapsed": false
   },
   "outputs": [],
   "source": [
    "bool_output=~total_output.astype(bool)"
   ]
  },
  {
   "cell_type": "code",
   "execution_count": 217,
   "metadata": {
    "collapsed": false
   },
   "outputs": [],
   "source": [
    "def compare(idx,records=bool_output):\n",
    "    fig = plt.figure(figsize=(10,20))\n",
    "    ax1 = fig.add_subplot(221)\n",
    "    ax1.imshow(records[idx,0,:,:],cmap='Greys')\n",
    "    ax2 = fig.add_subplot(222)\n",
    "    ax2.imshow(records[idx,1,:,:],cmap='Greys')"
   ]
  },
  {
   "cell_type": "code",
   "execution_count": 218,
   "metadata": {
    "collapsed": false
   },
   "outputs": [
    {
     "ename": "SyntaxError",
     "evalue": "invalid syntax (<ipython-input-218-52725279e646>, line 1)",
     "output_type": "error",
     "traceback": [
      "\u001b[0;36m  File \u001b[0;32m\"<ipython-input-218-52725279e646>\"\u001b[0;36m, line \u001b[0;32m1\u001b[0m\n\u001b[0;31m    def get_intersection()\u001b[0m\n\u001b[0m                          ^\u001b[0m\n\u001b[0;31mSyntaxError\u001b[0m\u001b[0;31m:\u001b[0m invalid syntax\n"
     ]
    }
   ],
   "source": [
    "def get_intersection()"
   ]
  },
  {
   "cell_type": "code",
   "execution_count": 223,
   "metadata": {
    "collapsed": false
   },
   "outputs": [
    {
     "data": {
      "text/plain": [
       "47"
      ]
     },
     "execution_count": 223,
     "metadata": {},
     "output_type": "execute_result"
    }
   ],
   "source": [
    "bool_output[0,0,:,:].sum()"
   ]
  },
  {
   "cell_type": "code",
   "execution_count": 222,
   "metadata": {
    "collapsed": false
   },
   "outputs": [
    {
     "data": {
      "text/plain": [
       "0"
      ]
     },
     "execution_count": 222,
     "metadata": {},
     "output_type": "execute_result"
    }
   ],
   "source": [
    "bool_output[0,1,:,:].sum()"
   ]
  },
  {
   "cell_type": "code",
   "execution_count": 221,
   "metadata": {
    "collapsed": false
   },
   "outputs": [
    {
     "data": {
      "image/png": "[encoded data removed]",
      "text/plain": [
       "<matplotlib.figure.Figure at 0x11e329390>"
      ]
     },
     "metadata": {},
     "output_type": "display_data"
    }
   ],
   "source": [
    "compare(1)"
   ]
  },
  {
   "cell_type": "code",
   "execution_count": 174,
   "metadata": {
    "collapsed": false
   },
   "outputs": [],
   "source": [
    "def find_true_empties(arr):\n",
    "    arr=~arr.astype(bool)\n",
    "    truth = arr[:,1,:,:]\n",
    "    sums = np.sum(truth,axis=(1,2))\n",
    "    empty = (sums ==0)\n",
    "    return arr[empty,:,:,:]\n",
    "\n",
    "def find_pred_empties(arr):\n",
    "    arr=~arr.astype(bool)\n",
    "    truth = arr[:,0,:,:]\n",
    "    sums = np.sum(truth,axis=(1,2))\n",
    "    empty = (sums ==0)\n",
    "    return arr[empty,:,:,:]\n",
    "\n",
    "def find_false_empties(arr):\n",
    "    arr=~arr.astype(bool)\n",
    "    truth = arr[:,0,:,:]\n",
    "    pred = arr[:,1,:,:]\n",
    "    tsums = np.sum(truth,axis=(1,2))\n",
    "    psums=np.sum(pred,axis=(1,2))\n",
    "    empty = (tsums !=0) & (psums==0)\n",
    "    return arr[empty,:,:,:]\n",
    "    \n",
    "    \n",
    "def find_false_nonempties(arr):\n",
    "    arr=~arr.astype(bool)\n",
    "    truth = arr[:,0,:,:]\n",
    "    pred = arr[:,1,:,:]\n",
    "    tsums = np.sum(truth,axis=(1,2))\n",
    "    psums=np.sum(pred,axis=(1,2))\n",
    "    empty = (tsums ==0) & (psums!=0)\n",
    "    return arr[empty,:,:,:]"
   ]
  },
  {
   "cell_type": "code",
   "execution_count": 253,
   "metadata": {
    "collapsed": true
   },
   "outputs": [],
   "source": [
    "def ndice(pred_batch,label_batch,sh=(416,576)):\n",
    "      n_batch = pred_batch.shape[0]\n",
    "      preds = pred_batch.reshape([n_batch,sh[0],sh[1]])\n",
    "      labels = label_batch.reshape([n_batch,sh[0],sh[1]])\n",
    "      denoms = np.sum(preds,axis=(1,2)) + np.sum(labels,axis=(1,2))\n",
    "      cap = np.logical_and(preds, labels)\n",
    "      numerators = 2*np.sum(cap, axis=(1,2))\n",
    "      zero_denoms = np.where(denoms ==0)\n",
    "      nonzero_denoms = np.where (denoms !=0)\n",
    "      result = np.empty(denoms.shape)\n",
    "      result[zero_denoms] = 1\n",
    "      result[nonzero_denoms] = np.divide(numerators[nonzero_denoms],denoms[nonzero_denoms])\n",
    "      return result"
   ]
  },
  {
   "cell_type": "code",
   "execution_count": 245,
   "metadata": {
    "collapsed": true
   },
   "outputs": [],
   "source": [
    "sample_dice=ndice(bool_output[:,0,:,:],bool_output[:,1,:,:])"
   ]
  },
  {
   "cell_type": "code",
   "execution_count": 246,
   "metadata": {
    "collapsed": false
   },
   "outputs": [],
   "source": [
    "mean_dice=sample_dice.mean()"
   ]
  },
  {
   "cell_type": "code",
   "execution_count": 250,
   "metadata": {
    "collapsed": false
   },
   "outputs": [
    {
     "data": {
      "text/plain": [
       "array([ 0.        ,  1.        ,  1.        ,  1.        ,  0.        ,\n",
       "        0.48566287,  0.32036613,  0.09554455,  1.        ,  1.        ,\n",
       "        0.1967261 ,  0.        ,  1.        ,  1.        ,  1.        ,  1.        ])"
      ]
     },
     "execution_count": 250,
     "metadata": {},
     "output_type": "execute_result"
    }
   ],
   "source": [
    "sample_dice"
   ]
  },
  {
   "cell_type": "code",
   "execution_count": 262,
   "metadata": {
    "collapsed": false
   },
   "outputs": [
    {
     "data": {
      "text/plain": [
       "0"
      ]
     },
     "execution_count": 262,
     "metadata": {},
     "output_type": "execute_result"
    }
   ],
   "source": [
    "(bool_output[0,0,:,:] & bool_output[0,1,:,:]).sum()"
   ]
  },
  {
   "cell_type": "code",
   "execution_count": 263,
   "metadata": {
    "collapsed": false
   },
   "outputs": [
    {
     "data": {
      "text/plain": [
       "(47, 0)"
      ]
     },
     "execution_count": 263,
     "metadata": {},
     "output_type": "execute_result"
    }
   ],
   "source": [
    "bool_output[0,0,:,:].sum(),bool_output[0,1,:,:].sum()"
   ]
  },
  {
   "cell_type": "code",
   "execution_count": 291,
   "metadata": {
    "collapsed": false
   },
   "outputs": [
    {
     "data": {
      "text/plain": [
       "0"
      ]
     },
     "execution_count": 291,
     "metadata": {},
     "output_type": "execute_result"
    }
   ],
   "source": [
    "bool_output[0,1,:,:].sum()"
   ]
  },
  {
   "cell_type": "code",
   "execution_count": 322,
   "metadata": {
    "collapsed": false
   },
   "outputs": [
    {
     "data": {
      "image/png": "[encoded data removed]",
      "text/plain": [
       "<matplotlib.figure.Figure at 0x1129b34a8>"
      ]
     },
     "metadata": {},
     "output_type": "display_data"
    }
   ],
   "source": [
    "compare(10)"
   ]
  },
  {
   "cell_type": "code",
   "execution_count": null,
   "metadata": {
    "collapsed": true
   },
   "outputs": [],
   "source": [
    "def convex_hull(prediction,sh=(416,576)):\n",
    "    prediction=prediction.reshape(sh)\n",
    "    "
   ]
  },
  {
   "cell_type": "code",
   "execution_count": 167,
   "metadata": {
    "collapsed": false
   },
   "outputs": [
    {
     "data": {
      "text/plain": [
       "235000"
      ]
     },
     "execution_count": 167,
     "metadata": {},
     "output_type": "execute_result"
    }
   ],
   "source": [
    "total_output[4,1,:,:].sum()"
   ]
  },
  {
   "cell_type": "code",
   "execution_count": null,
   "metadata": {
    "collapsed": true
   },
   "outputs": [],
   "source": []
  }
 ],
 "metadata": {
  "anaconda-cloud": {},
  "kernelspec": {
   "display_name": "Python [CDIPS]",
   "language": "python",
   "name": "Python [CDIPS]"
  },
  "language_info": {
   "codemirror_mode": {
    "name": "ipython",
    "version": 3
   },
   "file_extension": ".py",
   "mimetype": "text/x-python",
   "name": "python",
   "nbconvert_exporter": "python",
   "pygments_lexer": "ipython3",
   "version": "3.5.2"
  }
 },
 "nbformat": 4,
 "nbformat_minor": 0
}
