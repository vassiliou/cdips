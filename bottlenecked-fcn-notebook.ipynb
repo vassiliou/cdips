{
 "cells": [
  {
   "cell_type": "code",
   "execution_count": 1,
   "metadata": {
    "collapsed": false
   },
   "outputs": [],
   "source": [
    "import numpy as np\n",
    "import pandas as pd\n",
    "import tensorflow as tf\n",
    "import fcn16_vgg\n",
    "import bottled_fcn\n",
    "from bottled_fcn import bottledFCN16"
   ]
  },
  {
   "cell_type": "code",
   "execution_count": null,
   "metadata": {
    "collapsed": true
   },
   "outputs": [],
   "source": [
    "# start a TensorFlow session"
   ]
  },
  {
   "cell_type": "code",
   "execution_count": 2,
   "metadata": {
    "collapsed": false
   },
   "outputs": [],
   "source": [
    "sess=tf.InteractiveSession()"
   ]
  },
  {
   "cell_type": "code",
   "execution_count": null,
   "metadata": {
    "collapsed": true
   },
   "outputs": [],
   "source": [
    "# load VGG weights "
   ]
  },
  {
   "cell_type": "code",
   "execution_count": 3,
   "metadata": {
    "collapsed": false
   },
   "outputs": [
    {
     "name": "stdout",
     "output_type": "stream",
     "text": [
      "npy file loaded\n"
     ]
    }
   ],
   "source": [
    "net = bottledFCN16(vgg_path=\"../tensorflow-fcn/vgg16.npy\")"
   ]
  },
  {
   "cell_type": "code",
   "execution_count": 17,
   "metadata": {
    "collapsed": true
   },
   "outputs": [],
   "source": [
    "# placeholders for fc6 and pool4 inputs"
   ]
  },
  {
   "cell_type": "code",
   "execution_count": 18,
   "metadata": {
    "collapsed": false
   },
   "outputs": [],
   "source": [
    "fc6_input = tf.placeholder(tf.float32,[None,14,19,4096])\n",
    "pool4_input = tf.placeholder(tf.float32,[None,27,37,512])\n",
    "inputs=(fc6_input,pool4_input)"
   ]
  },
  {
   "cell_type": "code",
   "execution_count": null,
   "metadata": {
    "collapsed": true
   },
   "outputs": [],
   "source": [
    "# build the remaining layers of the net"
   ]
  },
  {
   "cell_type": "code",
   "execution_count": 6,
   "metadata": {
    "collapsed": false
   },
   "outputs": [
    {
     "name": "stdout",
     "output_type": "stream",
     "text": [
      "Layer name: fc7\n",
      "Layer shape: [1, 1, 4096, 4096]\n"
     ]
    }
   ],
   "source": [
    "with tf.name_scope('vgg_net') as scope:\n",
    "    net.build(inputs,train=False,num_classes=2,random_init_fc8=True)"
   ]
  },
  {
   "cell_type": "code",
   "execution_count": 19,
   "metadata": {
    "collapsed": true
   },
   "outputs": [],
   "source": [
    "# test that things are connected up consistently: evaluate output\n",
    "# on a minibatch"
   ]
  },
  {
   "cell_type": "code",
   "execution_count": 8,
   "metadata": {
    "collapsed": true
   },
   "outputs": [],
   "source": [
    "debug_batch_1=np.load('/Users/gus/CDIPS/fc6_batch_1.bin.npy')"
   ]
  },
  {
   "cell_type": "code",
   "execution_count": 20,
   "metadata": {
    "collapsed": false
   },
   "outputs": [
    {
     "data": {
      "text/plain": [
       "(3, 14, 19, 4096)"
      ]
     },
     "execution_count": 20,
     "metadata": {},
     "output_type": "execute_result"
    }
   ],
   "source": [
    "debug_batch_1.shape"
   ]
  },
  {
   "cell_type": "code",
   "execution_count": 10,
   "metadata": {
    "collapsed": true
   },
   "outputs": [],
   "source": [
    "pool_debug=np.zeros([3,27,37,512])"
   ]
  },
  {
   "cell_type": "code",
   "execution_count": 12,
   "metadata": {
    "collapsed": false
   },
   "outputs": [],
   "source": [
    "sess.run(tf.initialize_all_variables())"
   ]
  },
  {
   "cell_type": "code",
   "execution_count": 16,
   "metadata": {
    "collapsed": false
   },
   "outputs": [
    {
     "data": {
      "text/plain": [
       "array([[[[ 0.22645661,  0.23746885],\n",
       "         [ 0.23623425,  0.24818607],\n",
       "         [ 0.24117944,  0.25429991],\n",
       "         ..., \n",
       "         [ 0.16333677,  0.38601354],\n",
       "         [ 0.16032353,  0.38513422],\n",
       "         [ 0.15731029,  0.38425493]],\n",
       "\n",
       "        [[ 0.23660365,  0.24894734],\n",
       "         [ 0.2468178 ,  0.2601864 ],\n",
       "         [ 0.25198138,  0.26660338],\n",
       "         ..., \n",
       "         [ 0.16999909,  0.40330714],\n",
       "         [ 0.16679463,  0.40238985],\n",
       "         [ 0.16359016,  0.4014726 ]],\n",
       "\n",
       "        [[ 0.24228762,  0.25658375],\n",
       "         [ 0.25274399,  0.2681751 ],\n",
       "         [ 0.25802529,  0.27480397],\n",
       "         ..., \n",
       "         [ 0.17278591,  0.41299021],\n",
       "         [ 0.16939336,  0.41205376],\n",
       "         [ 0.16600084,  0.41111729]],\n",
       "\n",
       "        ..., \n",
       "        [[ 0.13117345,  0.45421267],\n",
       "         [ 0.13806704,  0.47381437],\n",
       "         [ 0.14339145,  0.48371384],\n",
       "         ..., \n",
       "         [ 0.10156851,  0.72586536],\n",
       "         [ 0.10359813,  0.73216915],\n",
       "         [ 0.10562775,  0.738473  ]],\n",
       "\n",
       "        [[ 0.12683462,  0.45205441],\n",
       "         [ 0.13351834,  0.47155952],\n",
       "         [ 0.1387029 ,  0.48140499],\n",
       "         ..., \n",
       "         [ 0.09828559,  0.72147763],\n",
       "         [ 0.10028256,  0.72783989],\n",
       "         [ 0.10227954,  0.73420221]],\n",
       "\n",
       "        [[ 0.12249579,  0.44989613],\n",
       "         [ 0.12896962,  0.46930468],\n",
       "         [ 0.13401435,  0.47909617],\n",
       "         ..., \n",
       "         [ 0.09500265,  0.71708989],\n",
       "         [ 0.096967  ,  0.72351062],\n",
       "         [ 0.09893135,  0.72993141]]],\n",
       "\n",
       "\n",
       "       [[[ 0.07811008,  0.16426331],\n",
       "         [ 0.08208863,  0.17063531],\n",
       "         [ 0.08500639,  0.17278171],\n",
       "         ..., \n",
       "         [ 0.25678208,  0.44507173],\n",
       "         [ 0.25116956,  0.44736084],\n",
       "         [ 0.24555708,  0.44964993]],\n",
       "\n",
       "        [[ 0.08094361,  0.17102741],\n",
       "         [ 0.08506753,  0.17765284],\n",
       "         [ 0.08809319,  0.17986968],\n",
       "         ..., \n",
       "         [ 0.26926976,  0.46513259],\n",
       "         [ 0.26342925,  0.46750957],\n",
       "         [ 0.25758877,  0.46988651]],\n",
       "\n",
       "        [[ 0.08157134,  0.17395797],\n",
       "         [ 0.08572929,  0.18067916],\n",
       "         [ 0.08878252,  0.18289843],\n",
       "         ..., \n",
       "         [ 0.27767849,  0.47654003],\n",
       "         [ 0.27174413,  0.47894502],\n",
       "         [ 0.26580977,  0.48135   ]],\n",
       "\n",
       "        ..., \n",
       "        [[-0.15135261,  0.44654572],\n",
       "         [-0.15604861,  0.4666616 ],\n",
       "         [-0.15567592,  0.478084  ],\n",
       "         ..., \n",
       "         [ 0.06873132,  0.47148126],\n",
       "         [ 0.06708999,  0.46886128],\n",
       "         [ 0.06544864,  0.46624124]],\n",
       "\n",
       "        [[-0.14983188,  0.44275028],\n",
       "         [-0.15449715,  0.46269846],\n",
       "         [-0.15416113,  0.47403029],\n",
       "         ..., \n",
       "         [ 0.06705189,  0.47430074],\n",
       "         [ 0.06550253,  0.4716765 ],\n",
       "         [ 0.06395318,  0.46905226]],\n",
       "\n",
       "        [[-0.14831115,  0.43895483],\n",
       "         [-0.1529457 ,  0.45873529],\n",
       "         [-0.15264632,  0.46997657],\n",
       "         ..., \n",
       "         [ 0.06537246,  0.47712016],\n",
       "         [ 0.06391508,  0.47449172],\n",
       "         [ 0.0624577 ,  0.4718633 ]]],\n",
       "\n",
       "\n",
       "       [[[ 0.28713682,  0.28863618],\n",
       "         [ 0.29837477,  0.30160797],\n",
       "         [ 0.3023257 ,  0.30892983],\n",
       "         ..., \n",
       "         [ 0.8655175 ,  0.44522148],\n",
       "         [ 0.86236924,  0.44674575],\n",
       "         [ 0.85922098,  0.44827002]],\n",
       "\n",
       "        [[ 0.30016068,  0.30155095],\n",
       "         [ 0.31191003,  0.31510174],\n",
       "         [ 0.31604356,  0.32274836],\n",
       "         ..., \n",
       "         [ 0.90218949,  0.46340513],\n",
       "         [ 0.89892852,  0.46504638],\n",
       "         [ 0.89566749,  0.46668765]],\n",
       "\n",
       "        [[ 0.30768344,  0.3087588 ],\n",
       "         [ 0.31973061,  0.32263064],\n",
       "         [ 0.32397443,  0.33045447],\n",
       "         ..., \n",
       "         [ 0.91969359,  0.47104844],\n",
       "         [ 0.91641027,  0.47282532],\n",
       "         [ 0.91312706,  0.47460225]],\n",
       "\n",
       "        ..., \n",
       "        [[-0.3341569 ,  0.75553107],\n",
       "         [-0.34696186,  0.78889668],\n",
       "         [-0.35101327,  0.80688393],\n",
       "         ..., \n",
       "         [-0.06472664,  0.63119823],\n",
       "         [-0.07189567,  0.63515449],\n",
       "         [-0.0790647 ,  0.6391108 ]],\n",
       "\n",
       "        [[-0.34188506,  0.75366473],\n",
       "         [-0.35501525,  0.78693116],\n",
       "         [-0.35921851,  0.80484062],\n",
       "         ..., \n",
       "         [-0.05930848,  0.62015307],\n",
       "         [-0.06654437,  0.62408543],\n",
       "         [-0.07378025,  0.62801778]],\n",
       "\n",
       "        [[-0.34961316,  0.75179833],\n",
       "         [-0.36306858,  0.78496569],\n",
       "         [-0.36742377,  0.80279738],\n",
       "         ..., \n",
       "         [-0.05389031,  0.60910791],\n",
       "         [-0.06119306,  0.61301637],\n",
       "         [-0.0684958 ,  0.61692476]]]], dtype=float32)"
      ]
     },
     "execution_count": 16,
     "metadata": {},
     "output_type": "execute_result"
    }
   ],
   "source": [
    "sess.run(net.upscore32,feed_dict={fc6_input:debug_batch_1,pool4_input:pool_debug,raw_size:r})"
   ]
  },
  {
   "cell_type": "code",
   "execution_count": null,
   "metadata": {
    "collapsed": true
   },
   "outputs": [],
   "source": []
  },
  {
   "cell_type": "code",
   "execution_count": null,
   "metadata": {
    "collapsed": true
   },
   "outputs": [],
   "source": []
  }
 ],
 "metadata": {
  "anaconda-cloud": {},
  "kernelspec": {
   "display_name": "Python [CDIPS]",
   "language": "python",
   "name": "Python [CDIPS]"
  },
  "language_info": {
   "codemirror_mode": {
    "name": "ipython",
    "version": 3
   },
   "file_extension": ".py",
   "mimetype": "text/x-python",
   "name": "python",
   "nbconvert_exporter": "python",
   "pygments_lexer": "ipython3",
   "version": "3.5.2"
  }
 },
 "nbformat": 4,
 "nbformat_minor": 0
}
