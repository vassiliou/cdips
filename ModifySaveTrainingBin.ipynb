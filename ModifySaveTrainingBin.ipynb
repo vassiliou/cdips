{
 "cells": [
  {
   "cell_type": "code",
   "execution_count": 1,
   "metadata": {
    "collapsed": false
   },
   "outputs": [],
   "source": [
    "import uns\n",
    "from uns import training\n",
    "import pandas as pd\n",
    "import numpy as np\n",
    "import matplotlib.pyplot as plt\n",
    "%matplotlib inline"
   ]
  },
  {
   "cell_type": "code",
   "execution_count": null,
   "metadata": {
    "collapsed": false,
    "scrolled": true
   },
   "outputs": [],
   "source": [
    "training.columns"
   ]
  },
  {
   "cell_type": "markdown",
   "metadata": {},
   "source": [
    "## Images"
   ]
  },
  {
   "cell_type": "code",
   "execution_count": null,
   "metadata": {
    "collapsed": false,
    "scrolled": false
   },
   "outputs": [],
   "source": [
    "img = uns.image_pair(training.iloc[0])\n",
    "ax = img.image.plot()\n",
    "img.mask.plot()\n",
    "img.mask.plot_contour(ax=ax)"
   ]
  },
  {
   "cell_type": "code",
   "execution_count": null,
   "metadata": {
    "collapsed": false
   },
   "outputs": [],
   "source": [
    "indices = [84, 798, 800, 1270, 1513, 1914, 2221, 2236, 2735, 3062, 3428, 3898, 4157, 4175, 4277, 4296, 5019]\n",
    "batch = uns.batch(training.iloc[indices])\n",
    "ax = None\n",
    "for img in batch:\n",
    "    ax = img.mask.plot_contour(ax=ax, color='k', alpha=0.5)"
   ]
  },
  {
   "cell_type": "code",
   "execution_count": null,
   "metadata": {
    "collapsed": false,
    "scrolled": true
   },
   "outputs": [],
   "source": [
    "batchsum = np.sum(batch.array, axis=0)\n",
    "plt.imshow(batchsum, cmap=plt.cm.inferno)"
   ]
  },
  {
   "cell_type": "markdown",
   "metadata": {},
   "source": [
    "## iterate over all images/masks"
   ]
  },
  {
   "cell_type": "code",
   "execution_count": 8,
   "metadata": {
    "collapsed": true
   },
   "outputs": [],
   "source": [
    "batch = uns.batch(training)\n"
   ]
  },
  {
   "cell_type": "code",
   "execution_count": 9,
   "metadata": {
    "collapsed": false
   },
   "outputs": [
    {
     "name": "stderr",
     "output_type": "stream",
     "text": [
      "/Users/chrisv/anaconda/lib/python3.4/site-packages/skimage/external/tifffile/tifffile.py:1794: RuntimeWarning: py_decodelzw encountered unexpected end of stream\n",
      "  strip = decompress(strip)\n"
     ]
    }
   ],
   "source": [
    "dflist = [batch.pop(0).mask.pandas for i in range(len(batch)) ]\n",
    "newtraining = pd.DataFrame(data=dflist)"
   ]
  },
  {
   "cell_type": "code",
   "execution_count": 11,
   "metadata": {
    "collapsed": false
   },
   "outputs": [
    {
     "data": {
      "text/html": [
       "<div>\n",
       "<table border=\"1\" class=\"dataframe\">\n",
       "  <thead>\n",
       "    <tr style=\"text-align: right;\">\n",
       "      <th></th>\n",
       "      <th>Cc</th>\n",
       "      <th>Cr</th>\n",
       "      <th>H</th>\n",
       "      <th>S0</th>\n",
       "      <th>S1</th>\n",
       "      <th>V0</th>\n",
       "      <th>V1</th>\n",
       "      <th>W</th>\n",
       "      <th>img</th>\n",
       "      <th>lenskel</th>\n",
       "      <th>...</th>\n",
       "      <th>meandist</th>\n",
       "      <th>medidist</th>\n",
       "      <th>moments</th>\n",
       "      <th>npixels</th>\n",
       "      <th>pixels</th>\n",
       "      <th>subject</th>\n",
       "      <th>xmax</th>\n",
       "      <th>xmin</th>\n",
       "      <th>ymax</th>\n",
       "      <th>ymin</th>\n",
       "    </tr>\n",
       "  </thead>\n",
       "  <tbody>\n",
       "    <tr>\n",
       "      <th>0</th>\n",
       "      <td>440.251300</td>\n",
       "      <td>124.769064</td>\n",
       "      <td>81.806501</td>\n",
       "      <td>214.510762</td>\n",
       "      <td>133.540231</td>\n",
       "      <td>[-0.77623613493, 0.630442275573]</td>\n",
       "      <td>[0.630442275573, 0.77623613493]</td>\n",
       "      <td>86.010939</td>\n",
       "      <td>1</td>\n",
       "      <td>129.0</td>\n",
       "      <td>...</td>\n",
       "      <td>11.010182</td>\n",
       "      <td>10.000000</td>\n",
       "      <td>[[1177080.0, 146863170.0, 18899270430.0, 2.502...</td>\n",
       "      <td>4616.0</td>\n",
       "      <td>168153 9 168570 15 168984 22 169401 26 169818 ...</td>\n",
       "      <td>1</td>\n",
       "      <td>170.008604</td>\n",
       "      <td>83.997665</td>\n",
       "      <td>481.804343</td>\n",
       "      <td>399.997841</td>\n",
       "    </tr>\n",
       "    <tr>\n",
       "      <th>1</th>\n",
       "      <td>267.841705</td>\n",
       "      <td>146.818412</td>\n",
       "      <td>77.008820</td>\n",
       "      <td>247.940517</td>\n",
       "      <td>158.752495</td>\n",
       "      <td>[-0.950471304786, 0.310812320829]</td>\n",
       "      <td>[0.310812320829, 0.950471304786]</td>\n",
       "      <td>108.857344</td>\n",
       "      <td>2</td>\n",
       "      <td>78.0</td>\n",
       "      <td>...</td>\n",
       "      <td>13.228191</td>\n",
       "      <td>12.083046</td>\n",
       "      <td>[[1609305.0, 236275605.0, 36012171765.0, 5.674...</td>\n",
       "      <td>6311.0</td>\n",
       "      <td>96346 7 96762 16 97179 27 97595 35 98012 40 98...</td>\n",
       "      <td>1</td>\n",
       "      <td>200.001961</td>\n",
       "      <td>91.144617</td>\n",
       "      <td>305.999972</td>\n",
       "      <td>228.991152</td>\n",
       "    </tr>\n",
       "    <tr>\n",
       "      <th>2</th>\n",
       "      <td>343.224080</td>\n",
       "      <td>123.212227</td>\n",
       "      <td>104.004589</td>\n",
       "      <td>270.490347</td>\n",
       "      <td>183.423547</td>\n",
       "      <td>[-0.790130243689, 0.61293898392]</td>\n",
       "      <td>[0.61293898392, 0.790130243689]</td>\n",
       "      <td>112.011536</td>\n",
       "      <td>3</td>\n",
       "      <td>89.0</td>\n",
       "      <td>...</td>\n",
       "      <td>14.819897</td>\n",
       "      <td>13.453624</td>\n",
       "      <td>[[2043825.0, 251824230.0, 32675209890.0, 4.429...</td>\n",
       "      <td>8015.0</td>\n",
       "      <td>121957 2 122365 26 122784 28 123202 31 123618 ...</td>\n",
       "      <td>1</td>\n",
       "      <td>179.001961</td>\n",
       "      <td>66.990425</td>\n",
       "      <td>395.002487</td>\n",
       "      <td>290.997898</td>\n",
       "    </tr>\n",
       "    <tr>\n",
       "      <th>3</th>\n",
       "      <td>295.295555</td>\n",
       "      <td>110.537042</td>\n",
       "      <td>61.002162</td>\n",
       "      <td>172.551507</td>\n",
       "      <td>139.582235</td>\n",
       "      <td>[-0.996797967863, -0.0799613110473]</td>\n",
       "      <td>[-0.0799613110473, 0.996797967863]</td>\n",
       "      <td>76.031240</td>\n",
       "      <td>4</td>\n",
       "      <td>53.0</td>\n",
       "      <td>...</td>\n",
       "      <td>11.380546</td>\n",
       "      <td>10.000000</td>\n",
       "      <td>[[980985.0, 108435180.0, 12362646840.0, 1.4504...</td>\n",
       "      <td>3847.0</td>\n",
       "      <td>110980 9 111393 21 111810 33 112228 43 112647 ...</td>\n",
       "      <td>1</td>\n",
       "      <td>151.002101</td>\n",
       "      <td>74.970860</td>\n",
       "      <td>325.001983</td>\n",
       "      <td>263.999821</td>\n",
       "    </tr>\n",
       "    <tr>\n",
       "      <th>4</th>\n",
       "      <td>NaN</td>\n",
       "      <td>NaN</td>\n",
       "      <td>NaN</td>\n",
       "      <td>NaN</td>\n",
       "      <td>NaN</td>\n",
       "      <td>NaN</td>\n",
       "      <td>NaN</td>\n",
       "      <td>NaN</td>\n",
       "      <td>5</td>\n",
       "      <td>NaN</td>\n",
       "      <td>...</td>\n",
       "      <td>NaN</td>\n",
       "      <td>NaN</td>\n",
       "      <td>NaN</td>\n",
       "      <td>NaN</td>\n",
       "      <td>NaN</td>\n",
       "      <td>1</td>\n",
       "      <td>NaN</td>\n",
       "      <td>NaN</td>\n",
       "      <td>NaN</td>\n",
       "      <td>NaN</td>\n",
       "    </tr>\n",
       "  </tbody>\n",
       "</table>\n",
       "<p>5 rows × 21 columns</p>\n",
       "</div>"
      ],
      "text/plain": [
       "           Cc          Cr           H          S0          S1  \\\n",
       "0  440.251300  124.769064   81.806501  214.510762  133.540231   \n",
       "1  267.841705  146.818412   77.008820  247.940517  158.752495   \n",
       "2  343.224080  123.212227  104.004589  270.490347  183.423547   \n",
       "3  295.295555  110.537042   61.002162  172.551507  139.582235   \n",
       "4         NaN         NaN         NaN         NaN         NaN   \n",
       "\n",
       "                                    V0                                  V1  \\\n",
       "0     [-0.77623613493, 0.630442275573]     [0.630442275573, 0.77623613493]   \n",
       "1    [-0.950471304786, 0.310812320829]    [0.310812320829, 0.950471304786]   \n",
       "2     [-0.790130243689, 0.61293898392]     [0.61293898392, 0.790130243689]   \n",
       "3  [-0.996797967863, -0.0799613110473]  [-0.0799613110473, 0.996797967863]   \n",
       "4                                  NaN                                 NaN   \n",
       "\n",
       "            W  img  lenskel     ...       meandist   medidist  \\\n",
       "0   86.010939    1    129.0     ...      11.010182  10.000000   \n",
       "1  108.857344    2     78.0     ...      13.228191  12.083046   \n",
       "2  112.011536    3     89.0     ...      14.819897  13.453624   \n",
       "3   76.031240    4     53.0     ...      11.380546  10.000000   \n",
       "4         NaN    5      NaN     ...            NaN        NaN   \n",
       "\n",
       "                                             moments npixels  \\\n",
       "0  [[1177080.0, 146863170.0, 18899270430.0, 2.502...  4616.0   \n",
       "1  [[1609305.0, 236275605.0, 36012171765.0, 5.674...  6311.0   \n",
       "2  [[2043825.0, 251824230.0, 32675209890.0, 4.429...  8015.0   \n",
       "3  [[980985.0, 108435180.0, 12362646840.0, 1.4504...  3847.0   \n",
       "4                                                NaN     NaN   \n",
       "\n",
       "                                              pixels subject        xmax  \\\n",
       "0  168153 9 168570 15 168984 22 169401 26 169818 ...       1  170.008604   \n",
       "1  96346 7 96762 16 97179 27 97595 35 98012 40 98...       1  200.001961   \n",
       "2  121957 2 122365 26 122784 28 123202 31 123618 ...       1  179.001961   \n",
       "3  110980 9 111393 21 111810 33 112228 43 112647 ...       1  151.002101   \n",
       "4                                                NaN       1         NaN   \n",
       "\n",
       "        xmin        ymax        ymin  \n",
       "0  83.997665  481.804343  399.997841  \n",
       "1  91.144617  305.999972  228.991152  \n",
       "2  66.990425  395.002487  290.997898  \n",
       "3  74.970860  325.001983  263.999821  \n",
       "4        NaN         NaN         NaN  \n",
       "\n",
       "[5 rows x 21 columns]"
      ]
     },
     "execution_count": 11,
     "metadata": {},
     "output_type": "execute_result"
    }
   ],
   "source": [
    "newtraining.head(5)"
   ]
  },
  {
   "cell_type": "code",
   "execution_count": 12,
   "metadata": {
    "collapsed": true
   },
   "outputs": [],
   "source": [
    "newtraining.to_msgpack('training.bin')"
   ]
  }
 ],
 "metadata": {
  "kernelspec": {
   "display_name": "Python 3",
   "language": "python",
   "name": "python3"
  },
  "language_info": {
   "codemirror_mode": {
    "name": "ipython",
    "version": 3
   },
   "file_extension": ".py",
   "mimetype": "text/x-python",
   "name": "python",
   "nbconvert_exporter": "python",
   "pygments_lexer": "ipython3",
   "version": "3.4.5"
  }
 },
 "nbformat": 4,
 "nbformat_minor": 0
}
