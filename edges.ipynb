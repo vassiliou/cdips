{
 "cells": [
  {
   "cell_type": "code",
   "execution_count": 3,
   "metadata": {
    "collapsed": false
   },
   "outputs": [
    {
     "name": "stdout",
     "output_type": "stream",
     "text": [
      "Using matplotlib backend: MacOSX\n",
      "Populating the interactive namespace from numpy and matplotlib\n"
     ]
    }
   ],
   "source": [
    "%pylab\n",
    "import numpy as np\n",
    "import matplotlib.pyplot as plt\n",
    "import cv2\n",
    "import os, glob"
   ]
  },
  {
   "cell_type": "code",
   "execution_count": 4,
   "metadata": {
    "collapsed": true
   },
   "outputs": [],
   "source": [
    "def grays_to_RGB(img):\n",
    "    # turn 2D grayscale image into grayscale RGB\n",
    "    return np.dstack((img, img, img)) \n",
    "\n",
    "def build_edges(img,mask):\n",
    "    # draw red 'edges' found in ultrasound using Canny on top\n",
    "    # of the ultrasound image, and plot nerve boundary in blue\n",
    "    maskEdges = cv2.Canny(mask,100,200)>0\n",
    "    imageEdges = cv2.Canny(img,100,200)>0\n",
    "    image=grays_to_RGB(img)\n",
    "    image[maskEdges,0]=255\n",
    "    image[maskEdges,1]=0\n",
    "    image[maskEdges,2]=0\n",
    "    image[imageEdges,0]=0\n",
    "    image[imageEdges,1]=0\n",
    "    image[imageEdges,2]=255\n",
    "    return image\n",
    "\n",
    "\n",
    "def draw_edges(img,mask):\n",
    "    ### img and mask are ndarrays loaded using plt.imread\n",
    "    plt.imshow(build_edges(img,mask))\n",
    "    \n",
    "    "
   ]
  },
  {
   "cell_type": "code",
   "execution_count": null,
   "metadata": {
    "collapsed": true
   },
   "outputs": [],
   "source": []
  }
 ],
 "metadata": {
  "anaconda-cloud": {},
  "kernelspec": {
   "display_name": "Python [Root]",
   "language": "python",
   "name": "Python [Root]"
  },
  "language_info": {
   "codemirror_mode": {
    "name": "ipython",
    "version": 2
   },
   "file_extension": ".py",
   "mimetype": "text/x-python",
   "name": "python",
   "nbconvert_exporter": "python",
   "pygments_lexer": "ipython2",
   "version": "2.7.12"
  }
 },
 "nbformat": 4,
 "nbformat_minor": 0
}
