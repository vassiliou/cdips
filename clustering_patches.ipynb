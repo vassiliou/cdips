{
 "cells": [
  {
   "cell_type": "code",
   "execution_count": 2,
   "metadata": {
    "collapsed": false
   },
   "outputs": [],
   "source": [
    "import numpy as np\n",
    "import glob\n",
    "import pandas as pd\n",
    "from pandas import Series,DataFrame\n",
    "from sklearn.cluster import MiniBatchKMeans\n",
    "\n",
    "import matplotlib.pyplot as plt\n",
    "from matplotlib import colors\n",
    "%matplotlib inline\n",
    "\n",
    "sample_dir='/Users/gus/CDIPS/nerve-project/samples/'\n",
    "\n",
    "sample_images = glob.glob(sample_dir+'*')\n",
    "\n",
    "\n",
    "def load_data():\n",
    "    data= pd.read_msgpack('patch_data')\n",
    "    return data"
   ]
  },
  {
   "cell_type": "code",
   "execution_count": 3,
   "metadata": {
    "collapsed": false
   },
   "outputs": [],
   "source": [
    "import sampling as smp\n",
    "from sampling import build_data"
   ]
  },
  {
   "cell_type": "code",
   "execution_count": 4,
   "metadata": {
    "collapsed": false
   },
   "outputs": [
    {
     "name": "stderr",
     "output_type": "stream",
     "text": [
      "sampling.py:97: VisibleDeprecationWarning: using a non-integer number instead of an integer will result in an error in the future\n",
      "  return image[hor_range[0]:hor_range[1],ver_range[0]:ver_range[1]]\n"
     ]
    },
    {
     "name": "stdout",
     "output_type": "stream",
     "text": [
      "CPU times: user 5.23 s, sys: 518 ms, total: 5.75 s\n",
      "Wall time: 6.63 s\n"
     ]
    }
   ],
   "source": [
    "time data=build_data(50,50,17)"
   ]
  },
  {
   "cell_type": "code",
   "execution_count": 5,
   "metadata": {
    "collapsed": false
   },
   "outputs": [],
   "source": [
    "skeys = sorted(data.keys())"
   ]
  },
  {
   "cell_type": "code",
   "execution_count": 6,
   "metadata": {
    "collapsed": false
   },
   "outputs": [
    {
     "data": {
      "text/plain": [
       "(1, 14, (79.0, 363.0))"
      ]
     },
     "execution_count": 6,
     "metadata": {},
     "output_type": "execute_result"
    }
   ],
   "source": [
    "skeys[0]"
   ]
  },
  {
   "cell_type": "code",
   "execution_count": 7,
   "metadata": {
    "collapsed": false
   },
   "outputs": [],
   "source": [
    "def grab_ultra_patches(F):\n",
    "    im_patches=[]\n",
    "    for idx, key in enumerate(skeys):\n",
    "        if idx%500 ==0:\n",
    "            print 'Reading patch ', idx\n",
    "        ultra_image = smp.image_pair(key[0],key[1]).image\n",
    "        im_patches.append(smp.get_patch(ultra_image,key[2],F).flatten())\n",
    "    return np.array(im_patches)"
   ]
  },
  {
   "cell_type": "code",
   "execution_count": 9,
   "metadata": {
    "collapsed": false
   },
   "outputs": [
    {
     "name": "stdout",
     "output_type": "stream",
     "text": [
      "Reading patch  0\n",
      "Reading patch  100\n",
      "Reading patch  200\n",
      "Reading patch  300\n",
      "Reading patch  400\n",
      "Reading patch  500\n",
      "Reading patch  600\n",
      "Reading patch  700\n",
      "Reading patch  800\n",
      "Reading patch  900\n",
      "Reading patch  1000\n",
      "Reading patch  1100\n",
      "Reading patch  1200\n",
      "Reading patch  1300\n",
      "Reading patch  1400\n",
      "Reading patch  1500\n",
      "Reading patch  1600\n",
      "Reading patch  1700\n",
      "Reading patch  1800\n",
      "Reading patch  1900\n",
      "Reading patch  2000\n",
      "Reading patch  2100\n",
      "Reading patch  2200\n",
      "Reading patch  2300\n",
      "Reading patch  2400\n",
      "Reading patch  2500\n",
      "Reading patch  2600\n",
      "Reading patch  2700\n",
      "Reading patch  2800\n",
      "Reading patch  2900\n",
      "Reading patch  3000\n",
      "Reading patch  3100\n",
      "Reading patch  3200\n",
      "Reading patch  3300\n",
      "Reading patch  3400\n",
      "Reading patch  3500\n",
      "Reading patch  3600\n",
      "Reading patch  3700\n",
      "Reading patch  3800\n",
      "Reading patch  3900\n",
      "Reading patch  4000\n",
      "Reading patch  4100\n",
      "Reading patch  4200\n",
      "Reading patch  4300\n",
      "Reading patch  4400\n",
      "Reading patch  4500\n",
      "Reading patch  4600\n",
      "Reading patch  4700\n",
      "CPU times: user 4min 14s, sys: 20.5 s, total: 4min 35s\n",
      "Wall time: 4min 50s\n"
     ]
    }
   ],
   "source": [
    "time ultra_patches = grab_ultra_patches(17)"
   ]
  },
  {
   "cell_type": "code",
   "execution_count": 16,
   "metadata": {
    "collapsed": false
   },
   "outputs": [],
   "source": [
    "dataList = [data[k].flatten() for k in skeys ]\n",
    "dataArray = np.array(dataList)"
   ]
  },
  {
   "cell_type": "code",
   "execution_count": 17,
   "metadata": {
    "collapsed": false
   },
   "outputs": [
    {
     "data": {
      "text/plain": [
       "(1225,)"
      ]
     },
     "execution_count": 17,
     "metadata": {},
     "output_type": "execute_result"
    }
   ],
   "source": [
    "dataList[0].shape"
   ]
  },
  {
   "cell_type": "code",
   "execution_count": 19,
   "metadata": {
    "collapsed": false
   },
   "outputs": [
    {
     "name": "stderr",
     "output_type": "stream",
     "text": [
      "//anaconda/lib/python2.7/site-packages/sklearn/cluster/k_means_.py:1279: DeprecationWarning: This function is deprecated. Please call randint(0, 4765 + 1) instead\n",
      "  0, n_samples - 1, init_size)\n",
      "//anaconda/lib/python2.7/site-packages/sklearn/cluster/k_means_.py:630: DeprecationWarning: This function is deprecated. Please call randint(0, 4765 + 1) instead\n",
      "  0, n_samples - 1, init_size)\n",
      "//anaconda/lib/python2.7/site-packages/sklearn/cluster/k_means_.py:630: DeprecationWarning: This function is deprecated. Please call randint(0, 4765 + 1) instead\n",
      "  0, n_samples - 1, init_size)\n",
      "//anaconda/lib/python2.7/site-packages/sklearn/cluster/k_means_.py:630: DeprecationWarning: This function is deprecated. Please call randint(0, 4765 + 1) instead\n",
      "  0, n_samples - 1, init_size)\n",
      "//anaconda/lib/python2.7/site-packages/sklearn/cluster/k_means_.py:1328: DeprecationWarning: This function is deprecated. Please call randint(0, 4765 + 1) instead\n",
      "  0, n_samples - 1, self.batch_size)\n",
      "//anaconda/lib/python2.7/site-packages/sklearn/cluster/k_means_.py:1328: DeprecationWarning: This function is deprecated. Please call randint(0, 4765 + 1) instead\n",
      "  0, n_samples - 1, self.batch_size)\n",
      "//anaconda/lib/python2.7/site-packages/sklearn/cluster/k_means_.py:1328: DeprecationWarning: This function is deprecated. Please call randint(0, 4765 + 1) instead\n",
      "  0, n_samples - 1, self.batch_size)\n",
      "//anaconda/lib/python2.7/site-packages/sklearn/cluster/k_means_.py:1328: DeprecationWarning: This function is deprecated. Please call randint(0, 4765 + 1) instead\n",
      "  0, n_samples - 1, self.batch_size)\n",
      "//anaconda/lib/python2.7/site-packages/sklearn/cluster/k_means_.py:1328: DeprecationWarning: This function is deprecated. Please call randint(0, 4765 + 1) instead\n",
      "  0, n_samples - 1, self.batch_size)\n",
      "//anaconda/lib/python2.7/site-packages/sklearn/cluster/k_means_.py:1328: DeprecationWarning: This function is deprecated. Please call randint(0, 4765 + 1) instead\n",
      "  0, n_samples - 1, self.batch_size)\n",
      "//anaconda/lib/python2.7/site-packages/sklearn/cluster/k_means_.py:1328: DeprecationWarning: This function is deprecated. Please call randint(0, 4765 + 1) instead\n",
      "  0, n_samples - 1, self.batch_size)\n",
      "//anaconda/lib/python2.7/site-packages/sklearn/cluster/k_means_.py:1328: DeprecationWarning: This function is deprecated. Please call randint(0, 4765 + 1) instead\n",
      "  0, n_samples - 1, self.batch_size)\n",
      "//anaconda/lib/python2.7/site-packages/sklearn/cluster/k_means_.py:1328: DeprecationWarning: This function is deprecated. Please call randint(0, 4765 + 1) instead\n",
      "  0, n_samples - 1, self.batch_size)\n",
      "//anaconda/lib/python2.7/site-packages/sklearn/cluster/k_means_.py:1328: DeprecationWarning: This function is deprecated. Please call randint(0, 4765 + 1) instead\n",
      "  0, n_samples - 1, self.batch_size)\n",
      "//anaconda/lib/python2.7/site-packages/sklearn/cluster/k_means_.py:1328: DeprecationWarning: This function is deprecated. Please call randint(0, 4765 + 1) instead\n",
      "  0, n_samples - 1, self.batch_size)\n",
      "//anaconda/lib/python2.7/site-packages/sklearn/cluster/k_means_.py:1328: DeprecationWarning: This function is deprecated. Please call randint(0, 4765 + 1) instead\n",
      "  0, n_samples - 1, self.batch_size)\n",
      "//anaconda/lib/python2.7/site-packages/sklearn/cluster/k_means_.py:1328: DeprecationWarning: This function is deprecated. Please call randint(0, 4765 + 1) instead\n",
      "  0, n_samples - 1, self.batch_size)\n",
      "//anaconda/lib/python2.7/site-packages/sklearn/cluster/k_means_.py:1328: DeprecationWarning: This function is deprecated. Please call randint(0, 4765 + 1) instead\n",
      "  0, n_samples - 1, self.batch_size)\n",
      "//anaconda/lib/python2.7/site-packages/sklearn/cluster/k_means_.py:1328: DeprecationWarning: This function is deprecated. Please call randint(0, 4765 + 1) instead\n",
      "  0, n_samples - 1, self.batch_size)\n",
      "//anaconda/lib/python2.7/site-packages/sklearn/cluster/k_means_.py:1328: DeprecationWarning: This function is deprecated. Please call randint(0, 4765 + 1) instead\n",
      "  0, n_samples - 1, self.batch_size)\n",
      "//anaconda/lib/python2.7/site-packages/sklearn/cluster/k_means_.py:1328: DeprecationWarning: This function is deprecated. Please call randint(0, 4765 + 1) instead\n",
      "  0, n_samples - 1, self.batch_size)\n",
      "//anaconda/lib/python2.7/site-packages/sklearn/cluster/k_means_.py:1328: DeprecationWarning: This function is deprecated. Please call randint(0, 4765 + 1) instead\n",
      "  0, n_samples - 1, self.batch_size)\n",
      "//anaconda/lib/python2.7/site-packages/sklearn/cluster/k_means_.py:1328: DeprecationWarning: This function is deprecated. Please call randint(0, 4765 + 1) instead\n",
      "  0, n_samples - 1, self.batch_size)\n",
      "//anaconda/lib/python2.7/site-packages/sklearn/cluster/k_means_.py:1328: DeprecationWarning: This function is deprecated. Please call randint(0, 4765 + 1) instead\n",
      "  0, n_samples - 1, self.batch_size)\n",
      "//anaconda/lib/python2.7/site-packages/sklearn/cluster/k_means_.py:1328: DeprecationWarning: This function is deprecated. Please call randint(0, 4765 + 1) instead\n",
      "  0, n_samples - 1, self.batch_size)\n",
      "//anaconda/lib/python2.7/site-packages/sklearn/cluster/k_means_.py:1328: DeprecationWarning: This function is deprecated. Please call randint(0, 4765 + 1) instead\n",
      "  0, n_samples - 1, self.batch_size)\n",
      "//anaconda/lib/python2.7/site-packages/sklearn/cluster/k_means_.py:1328: DeprecationWarning: This function is deprecated. Please call randint(0, 4765 + 1) instead\n",
      "  0, n_samples - 1, self.batch_size)\n",
      "//anaconda/lib/python2.7/site-packages/sklearn/cluster/k_means_.py:1328: DeprecationWarning: This function is deprecated. Please call randint(0, 4765 + 1) instead\n",
      "  0, n_samples - 1, self.batch_size)\n",
      "//anaconda/lib/python2.7/site-packages/sklearn/cluster/k_means_.py:1328: DeprecationWarning: This function is deprecated. Please call randint(0, 4765 + 1) instead\n",
      "  0, n_samples - 1, self.batch_size)\n",
      "//anaconda/lib/python2.7/site-packages/sklearn/cluster/k_means_.py:1328: DeprecationWarning: This function is deprecated. Please call randint(0, 4765 + 1) instead\n",
      "  0, n_samples - 1, self.batch_size)\n",
      "//anaconda/lib/python2.7/site-packages/sklearn/cluster/k_means_.py:1328: DeprecationWarning: This function is deprecated. Please call randint(0, 4765 + 1) instead\n",
      "  0, n_samples - 1, self.batch_size)\n",
      "//anaconda/lib/python2.7/site-packages/sklearn/cluster/k_means_.py:1328: DeprecationWarning: This function is deprecated. Please call randint(0, 4765 + 1) instead\n",
      "  0, n_samples - 1, self.batch_size)\n",
      "//anaconda/lib/python2.7/site-packages/sklearn/cluster/k_means_.py:1328: DeprecationWarning: This function is deprecated. Please call randint(0, 4765 + 1) instead\n",
      "  0, n_samples - 1, self.batch_size)\n",
      "//anaconda/lib/python2.7/site-packages/sklearn/cluster/k_means_.py:1328: DeprecationWarning: This function is deprecated. Please call randint(0, 4765 + 1) instead\n",
      "  0, n_samples - 1, self.batch_size)\n",
      "//anaconda/lib/python2.7/site-packages/sklearn/cluster/k_means_.py:1328: DeprecationWarning: This function is deprecated. Please call randint(0, 4765 + 1) instead\n",
      "  0, n_samples - 1, self.batch_size)\n",
      "//anaconda/lib/python2.7/site-packages/sklearn/cluster/k_means_.py:1328: DeprecationWarning: This function is deprecated. Please call randint(0, 4765 + 1) instead\n",
      "  0, n_samples - 1, self.batch_size)\n",
      "//anaconda/lib/python2.7/site-packages/sklearn/cluster/k_means_.py:1328: DeprecationWarning: This function is deprecated. Please call randint(0, 4765 + 1) instead\n",
      "  0, n_samples - 1, self.batch_size)\n",
      "//anaconda/lib/python2.7/site-packages/sklearn/cluster/k_means_.py:1328: DeprecationWarning: This function is deprecated. Please call randint(0, 4765 + 1) instead\n",
      "  0, n_samples - 1, self.batch_size)\n",
      "//anaconda/lib/python2.7/site-packages/sklearn/cluster/k_means_.py:1328: DeprecationWarning: This function is deprecated. Please call randint(0, 4765 + 1) instead\n",
      "  0, n_samples - 1, self.batch_size)\n",
      "//anaconda/lib/python2.7/site-packages/sklearn/cluster/k_means_.py:1328: DeprecationWarning: This function is deprecated. Please call randint(0, 4765 + 1) instead\n",
      "  0, n_samples - 1, self.batch_size)\n",
      "//anaconda/lib/python2.7/site-packages/sklearn/cluster/k_means_.py:1328: DeprecationWarning: This function is deprecated. Please call randint(0, 4765 + 1) instead\n",
      "  0, n_samples - 1, self.batch_size)\n",
      "//anaconda/lib/python2.7/site-packages/sklearn/cluster/k_means_.py:1328: DeprecationWarning: This function is deprecated. Please call randint(0, 4765 + 1) instead\n",
      "  0, n_samples - 1, self.batch_size)\n",
      "//anaconda/lib/python2.7/site-packages/sklearn/cluster/k_means_.py:1328: DeprecationWarning: This function is deprecated. Please call randint(0, 4765 + 1) instead\n",
      "  0, n_samples - 1, self.batch_size)\n",
      "//anaconda/lib/python2.7/site-packages/sklearn/cluster/k_means_.py:1328: DeprecationWarning: This function is deprecated. Please call randint(0, 4765 + 1) instead\n",
      "  0, n_samples - 1, self.batch_size)\n",
      "//anaconda/lib/python2.7/site-packages/sklearn/cluster/k_means_.py:1328: DeprecationWarning: This function is deprecated. Please call randint(0, 4765 + 1) instead\n",
      "  0, n_samples - 1, self.batch_size)\n",
      "//anaconda/lib/python2.7/site-packages/sklearn/cluster/k_means_.py:1328: DeprecationWarning: This function is deprecated. Please call randint(0, 4765 + 1) instead\n",
      "  0, n_samples - 1, self.batch_size)\n",
      "//anaconda/lib/python2.7/site-packages/sklearn/cluster/k_means_.py:1328: DeprecationWarning: This function is deprecated. Please call randint(0, 4765 + 1) instead\n",
      "  0, n_samples - 1, self.batch_size)\n",
      "//anaconda/lib/python2.7/site-packages/sklearn/cluster/k_means_.py:1328: DeprecationWarning: This function is deprecated. Please call randint(0, 4765 + 1) instead\n",
      "  0, n_samples - 1, self.batch_size)\n",
      "//anaconda/lib/python2.7/site-packages/sklearn/cluster/k_means_.py:1328: DeprecationWarning: This function is deprecated. Please call randint(0, 4765 + 1) instead\n",
      "  0, n_samples - 1, self.batch_size)\n",
      "//anaconda/lib/python2.7/site-packages/sklearn/cluster/k_means_.py:1328: DeprecationWarning: This function is deprecated. Please call randint(0, 4765 + 1) instead\n",
      "  0, n_samples - 1, self.batch_size)\n",
      "//anaconda/lib/python2.7/site-packages/sklearn/cluster/k_means_.py:1328: DeprecationWarning: This function is deprecated. Please call randint(0, 4765 + 1) instead\n",
      "  0, n_samples - 1, self.batch_size)\n",
      "//anaconda/lib/python2.7/site-packages/sklearn/cluster/k_means_.py:1328: DeprecationWarning: This function is deprecated. Please call randint(0, 4765 + 1) instead\n",
      "  0, n_samples - 1, self.batch_size)\n",
      "//anaconda/lib/python2.7/site-packages/sklearn/cluster/k_means_.py:1328: DeprecationWarning: This function is deprecated. Please call randint(0, 4765 + 1) instead\n",
      "  0, n_samples - 1, self.batch_size)\n",
      "//anaconda/lib/python2.7/site-packages/sklearn/cluster/k_means_.py:1328: DeprecationWarning: This function is deprecated. Please call randint(0, 4765 + 1) instead\n",
      "  0, n_samples - 1, self.batch_size)\n",
      "//anaconda/lib/python2.7/site-packages/sklearn/cluster/k_means_.py:1328: DeprecationWarning: This function is deprecated. Please call randint(0, 4765 + 1) instead\n",
      "  0, n_samples - 1, self.batch_size)\n",
      "//anaconda/lib/python2.7/site-packages/sklearn/cluster/k_means_.py:1328: DeprecationWarning: This function is deprecated. Please call randint(0, 4765 + 1) instead\n",
      "  0, n_samples - 1, self.batch_size)\n",
      "//anaconda/lib/python2.7/site-packages/sklearn/cluster/k_means_.py:1328: DeprecationWarning: This function is deprecated. Please call randint(0, 4765 + 1) instead\n",
      "  0, n_samples - 1, self.batch_size)\n",
      "//anaconda/lib/python2.7/site-packages/sklearn/cluster/k_means_.py:1328: DeprecationWarning: This function is deprecated. Please call randint(0, 4765 + 1) instead\n",
      "  0, n_samples - 1, self.batch_size)\n",
      "//anaconda/lib/python2.7/site-packages/sklearn/cluster/k_means_.py:1328: DeprecationWarning: This function is deprecated. Please call randint(0, 4765 + 1) instead\n",
      "  0, n_samples - 1, self.batch_size)\n",
      "//anaconda/lib/python2.7/site-packages/sklearn/cluster/k_means_.py:1328: DeprecationWarning: This function is deprecated. Please call randint(0, 4765 + 1) instead\n",
      "  0, n_samples - 1, self.batch_size)\n",
      "//anaconda/lib/python2.7/site-packages/sklearn/cluster/k_means_.py:1328: DeprecationWarning: This function is deprecated. Please call randint(0, 4765 + 1) instead\n",
      "  0, n_samples - 1, self.batch_size)\n",
      "//anaconda/lib/python2.7/site-packages/sklearn/cluster/k_means_.py:1328: DeprecationWarning: This function is deprecated. Please call randint(0, 4765 + 1) instead\n",
      "  0, n_samples - 1, self.batch_size)\n",
      "//anaconda/lib/python2.7/site-packages/sklearn/cluster/k_means_.py:1328: DeprecationWarning: This function is deprecated. Please call randint(0, 4765 + 1) instead\n",
      "  0, n_samples - 1, self.batch_size)\n",
      "//anaconda/lib/python2.7/site-packages/sklearn/cluster/k_means_.py:1328: DeprecationWarning: This function is deprecated. Please call randint(0, 4765 + 1) instead\n",
      "  0, n_samples - 1, self.batch_size)\n",
      "//anaconda/lib/python2.7/site-packages/sklearn/cluster/k_means_.py:1328: DeprecationWarning: This function is deprecated. Please call randint(0, 4765 + 1) instead\n",
      "  0, n_samples - 1, self.batch_size)\n",
      "//anaconda/lib/python2.7/site-packages/sklearn/cluster/k_means_.py:1328: DeprecationWarning: This function is deprecated. Please call randint(0, 4765 + 1) instead\n",
      "  0, n_samples - 1, self.batch_size)\n",
      "//anaconda/lib/python2.7/site-packages/sklearn/cluster/k_means_.py:1328: DeprecationWarning: This function is deprecated. Please call randint(0, 4765 + 1) instead\n",
      "  0, n_samples - 1, self.batch_size)\n",
      "//anaconda/lib/python2.7/site-packages/sklearn/cluster/k_means_.py:1328: DeprecationWarning: This function is deprecated. Please call randint(0, 4765 + 1) instead\n",
      "  0, n_samples - 1, self.batch_size)\n",
      "//anaconda/lib/python2.7/site-packages/sklearn/cluster/k_means_.py:1328: DeprecationWarning: This function is deprecated. Please call randint(0, 4765 + 1) instead\n",
      "  0, n_samples - 1, self.batch_size)\n",
      "//anaconda/lib/python2.7/site-packages/sklearn/cluster/k_means_.py:1328: DeprecationWarning: This function is deprecated. Please call randint(0, 4765 + 1) instead\n",
      "  0, n_samples - 1, self.batch_size)\n",
      "//anaconda/lib/python2.7/site-packages/sklearn/cluster/k_means_.py:1328: DeprecationWarning: This function is deprecated. Please call randint(0, 4765 + 1) instead\n",
      "  0, n_samples - 1, self.batch_size)\n",
      "//anaconda/lib/python2.7/site-packages/sklearn/cluster/k_means_.py:1328: DeprecationWarning: This function is deprecated. Please call randint(0, 4765 + 1) instead\n",
      "  0, n_samples - 1, self.batch_size)\n",
      "//anaconda/lib/python2.7/site-packages/sklearn/cluster/k_means_.py:1328: DeprecationWarning: This function is deprecated. Please call randint(0, 4765 + 1) instead\n",
      "  0, n_samples - 1, self.batch_size)\n",
      "//anaconda/lib/python2.7/site-packages/sklearn/cluster/k_means_.py:1328: DeprecationWarning: This function is deprecated. Please call randint(0, 4765 + 1) instead\n",
      "  0, n_samples - 1, self.batch_size)\n",
      "//anaconda/lib/python2.7/site-packages/sklearn/cluster/k_means_.py:1328: DeprecationWarning: This function is deprecated. Please call randint(0, 4765 + 1) instead\n",
      "  0, n_samples - 1, self.batch_size)\n",
      "//anaconda/lib/python2.7/site-packages/sklearn/cluster/k_means_.py:1328: DeprecationWarning: This function is deprecated. Please call randint(0, 4765 + 1) instead\n",
      "  0, n_samples - 1, self.batch_size)\n",
      "//anaconda/lib/python2.7/site-packages/sklearn/cluster/k_means_.py:1328: DeprecationWarning: This function is deprecated. Please call randint(0, 4765 + 1) instead\n",
      "  0, n_samples - 1, self.batch_size)\n",
      "//anaconda/lib/python2.7/site-packages/sklearn/cluster/k_means_.py:1328: DeprecationWarning: This function is deprecated. Please call randint(0, 4765 + 1) instead\n",
      "  0, n_samples - 1, self.batch_size)\n",
      "//anaconda/lib/python2.7/site-packages/sklearn/cluster/k_means_.py:1328: DeprecationWarning: This function is deprecated. Please call randint(0, 4765 + 1) instead\n",
      "  0, n_samples - 1, self.batch_size)\n",
      "//anaconda/lib/python2.7/site-packages/sklearn/cluster/k_means_.py:1328: DeprecationWarning: This function is deprecated. Please call randint(0, 4765 + 1) instead\n",
      "  0, n_samples - 1, self.batch_size)\n",
      "//anaconda/lib/python2.7/site-packages/sklearn/cluster/k_means_.py:1328: DeprecationWarning: This function is deprecated. Please call randint(0, 4765 + 1) instead\n",
      "  0, n_samples - 1, self.batch_size)\n",
      "//anaconda/lib/python2.7/site-packages/sklearn/cluster/k_means_.py:1328: DeprecationWarning: This function is deprecated. Please call randint(0, 4765 + 1) instead\n",
      "  0, n_samples - 1, self.batch_size)\n",
      "//anaconda/lib/python2.7/site-packages/sklearn/cluster/k_means_.py:1328: DeprecationWarning: This function is deprecated. Please call randint(0, 4765 + 1) instead\n",
      "  0, n_samples - 1, self.batch_size)\n",
      "//anaconda/lib/python2.7/site-packages/sklearn/cluster/k_means_.py:1328: DeprecationWarning: This function is deprecated. Please call randint(0, 4765 + 1) instead\n",
      "  0, n_samples - 1, self.batch_size)\n",
      "//anaconda/lib/python2.7/site-packages/sklearn/cluster/k_means_.py:1328: DeprecationWarning: This function is deprecated. Please call randint(0, 4765 + 1) instead\n",
      "  0, n_samples - 1, self.batch_size)\n",
      "//anaconda/lib/python2.7/site-packages/sklearn/cluster/k_means_.py:1328: DeprecationWarning: This function is deprecated. Please call randint(0, 4765 + 1) instead\n",
      "  0, n_samples - 1, self.batch_size)\n",
      "//anaconda/lib/python2.7/site-packages/sklearn/cluster/k_means_.py:1328: DeprecationWarning: This function is deprecated. Please call randint(0, 4765 + 1) instead\n",
      "  0, n_samples - 1, self.batch_size)\n",
      "//anaconda/lib/python2.7/site-packages/sklearn/cluster/k_means_.py:1328: DeprecationWarning: This function is deprecated. Please call randint(0, 4765 + 1) instead\n",
      "  0, n_samples - 1, self.batch_size)\n",
      "//anaconda/lib/python2.7/site-packages/sklearn/cluster/k_means_.py:1279: DeprecationWarning: This function is deprecated. Please call randint(0, 4765 + 1) instead\n",
      "  0, n_samples - 1, init_size)\n",
      "//anaconda/lib/python2.7/site-packages/sklearn/cluster/k_means_.py:630: DeprecationWarning: This function is deprecated. Please call randint(0, 4765 + 1) instead\n",
      "  0, n_samples - 1, init_size)\n",
      "//anaconda/lib/python2.7/site-packages/sklearn/cluster/k_means_.py:630: DeprecationWarning: This function is deprecated. Please call randint(0, 4765 + 1) instead\n",
      "  0, n_samples - 1, init_size)\n",
      "//anaconda/lib/python2.7/site-packages/sklearn/cluster/k_means_.py:630: DeprecationWarning: This function is deprecated. Please call randint(0, 4765 + 1) instead\n",
      "  0, n_samples - 1, init_size)\n",
      "//anaconda/lib/python2.7/site-packages/sklearn/cluster/k_means_.py:1328: DeprecationWarning: This function is deprecated. Please call randint(0, 4765 + 1) instead\n",
      "  0, n_samples - 1, self.batch_size)\n",
      "//anaconda/lib/python2.7/site-packages/sklearn/cluster/k_means_.py:1328: DeprecationWarning: This function is deprecated. Please call randint(0, 4765 + 1) instead\n",
      "  0, n_samples - 1, self.batch_size)\n",
      "//anaconda/lib/python2.7/site-packages/sklearn/cluster/k_means_.py:1328: DeprecationWarning: This function is deprecated. Please call randint(0, 4765 + 1) instead\n",
      "  0, n_samples - 1, self.batch_size)\n",
      "//anaconda/lib/python2.7/site-packages/sklearn/cluster/k_means_.py:1328: DeprecationWarning: This function is deprecated. Please call randint(0, 4765 + 1) instead\n",
      "  0, n_samples - 1, self.batch_size)\n",
      "//anaconda/lib/python2.7/site-packages/sklearn/cluster/k_means_.py:1328: DeprecationWarning: This function is deprecated. Please call randint(0, 4765 + 1) instead\n",
      "  0, n_samples - 1, self.batch_size)\n",
      "//anaconda/lib/python2.7/site-packages/sklearn/cluster/k_means_.py:1328: DeprecationWarning: This function is deprecated. Please call randint(0, 4765 + 1) instead\n",
      "  0, n_samples - 1, self.batch_size)\n",
      "//anaconda/lib/python2.7/site-packages/sklearn/cluster/k_means_.py:1328: DeprecationWarning: This function is deprecated. Please call randint(0, 4765 + 1) instead\n",
      "  0, n_samples - 1, self.batch_size)\n",
      "//anaconda/lib/python2.7/site-packages/sklearn/cluster/k_means_.py:1328: DeprecationWarning: This function is deprecated. Please call randint(0, 4765 + 1) instead\n",
      "  0, n_samples - 1, self.batch_size)\n",
      "//anaconda/lib/python2.7/site-packages/sklearn/cluster/k_means_.py:1328: DeprecationWarning: This function is deprecated. Please call randint(0, 4765 + 1) instead\n",
      "  0, n_samples - 1, self.batch_size)\n",
      "//anaconda/lib/python2.7/site-packages/sklearn/cluster/k_means_.py:1328: DeprecationWarning: This function is deprecated. Please call randint(0, 4765 + 1) instead\n",
      "  0, n_samples - 1, self.batch_size)\n",
      "//anaconda/lib/python2.7/site-packages/sklearn/cluster/k_means_.py:1328: DeprecationWarning: This function is deprecated. Please call randint(0, 4765 + 1) instead\n",
      "  0, n_samples - 1, self.batch_size)\n",
      "//anaconda/lib/python2.7/site-packages/sklearn/cluster/k_means_.py:1328: DeprecationWarning: This function is deprecated. Please call randint(0, 4765 + 1) instead\n",
      "  0, n_samples - 1, self.batch_size)\n",
      "//anaconda/lib/python2.7/site-packages/sklearn/cluster/k_means_.py:1328: DeprecationWarning: This function is deprecated. Please call randint(0, 4765 + 1) instead\n",
      "  0, n_samples - 1, self.batch_size)\n",
      "//anaconda/lib/python2.7/site-packages/sklearn/cluster/k_means_.py:1328: DeprecationWarning: This function is deprecated. Please call randint(0, 4765 + 1) instead\n",
      "  0, n_samples - 1, self.batch_size)\n",
      "//anaconda/lib/python2.7/site-packages/sklearn/cluster/k_means_.py:1328: DeprecationWarning: This function is deprecated. Please call randint(0, 4765 + 1) instead\n",
      "  0, n_samples - 1, self.batch_size)\n",
      "//anaconda/lib/python2.7/site-packages/sklearn/cluster/k_means_.py:1328: DeprecationWarning: This function is deprecated. Please call randint(0, 4765 + 1) instead\n",
      "  0, n_samples - 1, self.batch_size)\n",
      "//anaconda/lib/python2.7/site-packages/sklearn/cluster/k_means_.py:1328: DeprecationWarning: This function is deprecated. Please call randint(0, 4765 + 1) instead\n",
      "  0, n_samples - 1, self.batch_size)\n",
      "//anaconda/lib/python2.7/site-packages/sklearn/cluster/k_means_.py:1328: DeprecationWarning: This function is deprecated. Please call randint(0, 4765 + 1) instead\n",
      "  0, n_samples - 1, self.batch_size)\n",
      "//anaconda/lib/python2.7/site-packages/sklearn/cluster/k_means_.py:1328: DeprecationWarning: This function is deprecated. Please call randint(0, 4765 + 1) instead\n",
      "  0, n_samples - 1, self.batch_size)\n",
      "//anaconda/lib/python2.7/site-packages/sklearn/cluster/k_means_.py:1328: DeprecationWarning: This function is deprecated. Please call randint(0, 4765 + 1) instead\n",
      "  0, n_samples - 1, self.batch_size)\n",
      "//anaconda/lib/python2.7/site-packages/sklearn/cluster/k_means_.py:1328: DeprecationWarning: This function is deprecated. Please call randint(0, 4765 + 1) instead\n",
      "  0, n_samples - 1, self.batch_size)\n",
      "//anaconda/lib/python2.7/site-packages/sklearn/cluster/k_means_.py:1328: DeprecationWarning: This function is deprecated. Please call randint(0, 4765 + 1) instead\n",
      "  0, n_samples - 1, self.batch_size)\n",
      "//anaconda/lib/python2.7/site-packages/sklearn/cluster/k_means_.py:1328: DeprecationWarning: This function is deprecated. Please call randint(0, 4765 + 1) instead\n",
      "  0, n_samples - 1, self.batch_size)\n",
      "//anaconda/lib/python2.7/site-packages/sklearn/cluster/k_means_.py:1328: DeprecationWarning: This function is deprecated. Please call randint(0, 4765 + 1) instead\n",
      "  0, n_samples - 1, self.batch_size)\n",
      "//anaconda/lib/python2.7/site-packages/sklearn/cluster/k_means_.py:1328: DeprecationWarning: This function is deprecated. Please call randint(0, 4765 + 1) instead\n",
      "  0, n_samples - 1, self.batch_size)\n",
      "//anaconda/lib/python2.7/site-packages/sklearn/cluster/k_means_.py:1328: DeprecationWarning: This function is deprecated. Please call randint(0, 4765 + 1) instead\n",
      "  0, n_samples - 1, self.batch_size)\n",
      "//anaconda/lib/python2.7/site-packages/sklearn/cluster/k_means_.py:1328: DeprecationWarning: This function is deprecated. Please call randint(0, 4765 + 1) instead\n",
      "  0, n_samples - 1, self.batch_size)\n",
      "//anaconda/lib/python2.7/site-packages/sklearn/cluster/k_means_.py:1328: DeprecationWarning: This function is deprecated. Please call randint(0, 4765 + 1) instead\n",
      "  0, n_samples - 1, self.batch_size)\n",
      "//anaconda/lib/python2.7/site-packages/sklearn/cluster/k_means_.py:1328: DeprecationWarning: This function is deprecated. Please call randint(0, 4765 + 1) instead\n",
      "  0, n_samples - 1, self.batch_size)\n",
      "//anaconda/lib/python2.7/site-packages/sklearn/cluster/k_means_.py:1328: DeprecationWarning: This function is deprecated. Please call randint(0, 4765 + 1) instead\n",
      "  0, n_samples - 1, self.batch_size)\n",
      "//anaconda/lib/python2.7/site-packages/sklearn/cluster/k_means_.py:1328: DeprecationWarning: This function is deprecated. Please call randint(0, 4765 + 1) instead\n",
      "  0, n_samples - 1, self.batch_size)\n",
      "//anaconda/lib/python2.7/site-packages/sklearn/cluster/k_means_.py:1328: DeprecationWarning: This function is deprecated. Please call randint(0, 4765 + 1) instead\n",
      "  0, n_samples - 1, self.batch_size)\n",
      "//anaconda/lib/python2.7/site-packages/sklearn/cluster/k_means_.py:1328: DeprecationWarning: This function is deprecated. Please call randint(0, 4765 + 1) instead\n",
      "  0, n_samples - 1, self.batch_size)\n"
     ]
    }
   ],
   "source": [
    "kmeans= MiniBatchKMeans(100).fit(dataArray)\n",
    "predictions=MiniBatchKMeans(100).fit_predict(dataArray)"
   ]
  },
  {
   "cell_type": "code",
   "execution_count": 27,
   "metadata": {
    "collapsed": false
   },
   "outputs": [],
   "source": [
    "clusters=[arr .reshape(35,35) for arr in kmeans.cluster_centers_ ]"
   ]
  },
  {
   "cell_type": "code",
   "execution_count": 28,
   "metadata": {
    "collapsed": false
   },
   "outputs": [
    {
     "data": {
      "text/plain": [
       "(4766,)"
      ]
     },
     "execution_count": 28,
     "metadata": {},
     "output_type": "execute_result"
    }
   ],
   "source": [
    "predictions.shape"
   ]
  },
  {
   "cell_type": "code",
   "execution_count": 29,
   "metadata": {
    "collapsed": false
   },
   "outputs": [],
   "source": [
    "pred =  DataFrame(predictions,columns=['cluster'])"
   ]
  },
  {
   "cell_type": "code",
   "execution_count": 30,
   "metadata": {
    "collapsed": false
   },
   "outputs": [
    {
     "name": "stdout",
     "output_type": "stream",
     "text": [
      "<class 'pandas.core.frame.DataFrame'>\n",
      "RangeIndex: 4766 entries, 0 to 4765\n",
      "Data columns (total 1 columns):\n",
      "cluster    4766 non-null int32\n",
      "dtypes: int32(1)\n",
      "memory usage: 18.7 KB\n"
     ]
    }
   ],
   "source": [
    "pred.info()"
   ]
  },
  {
   "cell_type": "code",
   "execution_count": 48,
   "metadata": {
    "collapsed": false
   },
   "outputs": [
    {
     "data": {
      "image/png": "[encoded data removed]",
      "text/plain": [
       "<matplotlib.figure.Figure at 0x1268ea1d0>"
      ]
     },
     "metadata": {},
     "output_type": "display_data"
    }
   ],
   "source": [
    "cluster_sizes=plt.hist(pred.cluster,bins=range(100)[::1])"
   ]
  },
  {
   "cell_type": "code",
   "execution_count": 40,
   "metadata": {
    "collapsed": false
   },
   "outputs": [
    {
     "data": {
      "text/plain": [
       "<matplotlib.image.AxesImage at 0x11e1e0d90>"
      ]
     },
     "execution_count": 40,
     "metadata": {},
     "output_type": "execute_result"
    },
    {
     "data": {
      "image/png": "[encoded data removed]",
      "text/plain": [
       "<matplotlib.figure.Figure at 0x11e00d1d0>"
      ]
     },
     "metadata": {},
     "output_type": "display_data"
    }
   ],
   "source": [
    "plt.imshow(clusters[3])"
   ]
  },
  {
   "cell_type": "code",
   "execution_count": null,
   "metadata": {
    "collapsed": true
   },
   "outputs": [],
   "source": []
  }
 ],
 "metadata": {
  "kernelspec": {
   "display_name": "Python [Root]",
   "language": "python",
   "name": "Python [Root]"
  },
  "language_info": {
   "codemirror_mode": {
    "name": "ipython",
    "version": 2
   },
   "file_extension": ".py",
   "mimetype": "text/x-python",
   "name": "python",
   "nbconvert_exporter": "python",
   "pygments_lexer": "ipython2",
   "version": "2.7.12"
  }
 },
 "nbformat": 4,
 "nbformat_minor": 0
}
