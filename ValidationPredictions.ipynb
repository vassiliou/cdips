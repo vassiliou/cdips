{
 "cells": [
  {
   "cell_type": "code",
   "execution_count": 1,
   "metadata": {
    "collapsed": false
   },
   "outputs": [
    {
     "name": "stdout",
     "output_type": "stream",
     "text": [
      "chrisv on Lubuntu\n"
     ]
    }
   ],
   "source": [
    "import numpy as np\n",
    "%matplotlib inline\n",
    "import matplotlib.pyplot as plt\n",
    "import glob\n",
    "import os\n",
    "import uns\n",
    "import pandas as pd\n",
    "folder = '/home/chrisv/code/fcn_train_log'\n",
    "filepattern = 'predictions_*'\n",
    "files = glob.glob(os.path.join(folder, filepattern))"
   ]
  },
  {
   "cell_type": "code",
   "execution_count": 2,
   "metadata": {
    "collapsed": false
   },
   "outputs": [],
   "source": [
    "tr = pd.read_msgpack('trainvalidate.bin')\n"
   ]
  },
  {
   "cell_type": "code",
   "execution_count": 3,
   "metadata": {
    "collapsed": true
   },
   "outputs": [],
   "source": [
    "def ndice(pred_batch,label_batch,sh=(416,576)):\n",
    "      n_batch = pred_batch.shape[0]\n",
    "      preds = pred_batch.reshape([n_batch,sh[0],sh[1]])\n",
    "      labels = label_batch.reshape([n_batch,sh[0],sh[1]])\n",
    "      denoms = np.sum(preds,axis=(1,2)) + np.sum(labels,axis=(1,2))\n",
    "      cap = np.logical_and(preds, labels)\n",
    "      numerators = 2*np.sum(cap, axis=(1,2))\n",
    "      zero_denoms = np.where(denoms ==0)\n",
    "      nonzero_denoms = np.where (denoms !=0)\n",
    "      result = np.empty(denoms.shape)\n",
    "      result[zero_denoms] = 1\n",
    "      result[nonzero_denoms] = np.divide(numerators[nonzero_denoms],denoms[nonzero_denoms])\n",
    "      return result"
   ]
  },
  {
   "cell_type": "code",
   "execution_count": 4,
   "metadata": {
    "collapsed": true
   },
   "outputs": [],
   "source": [
    "pred = 0\n",
    "mask = 1\n",
    "\n",
    "data = np.concatenate([np.load(f) for f in files], axis=0)\n"
   ]
  },
  {
   "cell_type": "code",
   "execution_count": 5,
   "metadata": {
    "collapsed": true
   },
   "outputs": [],
   "source": [
    "# Pixel count cutoff\n",
    "# convex hull or shape normalization\n",
    "# softmax output (not predictions)\n"
   ]
  },
  {
   "cell_type": "code",
   "execution_count": 9,
   "metadata": {
    "collapsed": false
   },
   "outputs": [
    {
     "data": {
      "text/plain": [
       "<matplotlib.image.AxesImage at 0x7f83eb75b0f0>"
      ]
     },
     "execution_count": 9,
     "metadata": {},
     "output_type": "execute_result"
    },
    {
     "data": {
      "image/png": "[encoded data removed]",
      "text/plain": [
       "<matplotlib.figure.Figure at 0x7f8424313390>"
      ]
     },
     "metadata": {},
     "output_type": "display_data"
    }
   ],
   "source": [
    "plt.imshow(data[29,0,:,:])"
   ]
  },
  {
   "cell_type": "code",
   "execution_count": 10,
   "metadata": {
    "collapsed": false
   },
   "outputs": [],
   "source": [
    "score = ndice(data[:,pred,:,:], data[:,mask,:,:])"
   ]
  },
  {
   "cell_type": "code",
   "execution_count": 11,
   "metadata": {
    "collapsed": false
   },
   "outputs": [
    {
     "data": {
      "text/plain": [
       "0.42999999999999999"
      ]
     },
     "execution_count": 11,
     "metadata": {},
     "output_type": "execute_result"
    },
    {
     "data": {
      "image/png": "[encoded data removed]",
      "text/plain": [
       "<matplotlib.figure.Figure at 0x7f83eb895780>"
      ]
     },
     "metadata": {},
     "output_type": "display_data"
    }
   ],
   "source": [
    "plt.hist(score, bins=100)\n",
    "np.mean(score>0)"
   ]
  },
  {
   "cell_type": "markdown",
   "metadata": {
    "collapsed": false
   },
   "source": [
    "Why so many zero scores?"
   ]
  },
  {
   "cell_type": "code",
   "execution_count": 29,
   "metadata": {
    "collapsed": false
   },
   "outputs": [
    {
     "name": "stdout",
     "output_type": "stream",
     "text": [
      "[0]: 0/299\n",
      "[2]: 360/2018\n",
      "[3]: 0/1379\n",
      "[5]: 0/6518\n",
      "[9]: 0/6944\n",
      "[10]: 0/4192\n",
      "[11]: 0/3025\n",
      "[12]: 6091/22\n",
      "[13]: 0/3656\n",
      "[14]: 59/308\n",
      "[16]: 0/6387\n",
      "[17]: 5702/0\n",
      "[18]: 0/9617\n",
      "[20]: 4843/0\n",
      "[21]: 272/0\n",
      "[22]: 0/3796\n",
      "[25]: 6959/0\n",
      "[29]: 5020/0\n",
      "[30]: 4546/0\n",
      "[35]: 8009/0\n",
      "[36]: 6917/0\n",
      "[38]: 6276/0\n",
      "[40]: 1149/81\n",
      "[41]: 5818/143\n",
      "[42]: 8705/0\n",
      "[44]: 5103/0\n",
      "[45]: 7621/0\n",
      "[46]: 6827/7488\n",
      "[47]: 8788/0\n",
      "[49]: 9471/0\n",
      "[50]: 1951/0\n",
      "[52]: 80/0\n",
      "[54]: 0/1112\n",
      "[55]: 5786/0\n",
      "[57]: 4670/0\n",
      "[60]: 2312/0\n",
      "[61]: 449/0\n",
      "[62]: 0/61\n",
      "[63]: 1635/0\n",
      "[66]: 8676/0\n",
      "[68]: 8159/0\n",
      "[72]: 0/4002\n",
      "[74]: 2198/0\n",
      "[78]: 6183/0\n",
      "[79]: 10792/0\n",
      "[81]: 0/817\n",
      "[82]: 5382/0\n",
      "[83]: 6376/0\n",
      "[84]: 7389/0\n",
      "[85]: 7932/0\n",
      "[86]: 0/7350\n",
      "[87]: 5632/0\n",
      "[90]: 0/4987\n",
      "[92]: 3596/424\n",
      "[94]: 166/0\n",
      "[95]: 0/6475\n",
      "[98]: 7023/0\n",
      "[100]: 6336/0\n",
      "[101]: 342/3869\n",
      "[102]: 23/105\n",
      "[103]: 3534/0\n",
      "[105]: 5265/0\n",
      "[107]: 6267/0\n",
      "[108]: 0/4597\n",
      "[110]: 0/4944\n",
      "[111]: 6432/0\n",
      "[112]: 3399/1657\n",
      "[113]: 436/0\n",
      "[114]: 8458/0\n",
      "[115]: 0/6203\n",
      "[116]: 6095/0\n",
      "[117]: 7185/6524\n",
      "[119]: 13076/0\n",
      "[121]: 2909/0\n",
      "[123]: 0/47\n",
      "[124]: 0/7041\n",
      "[125]: 7669/0\n",
      "[126]: 5969/0\n",
      "[127]: 11133/0\n",
      "[128]: 0/9860\n",
      "[138]: 5766/0\n",
      "[139]: 0/6872\n",
      "[140]: 0/1619\n",
      "[141]: 4452/0\n",
      "[142]: 950/2301\n",
      "[143]: 0/52\n",
      "[144]: 0/5766\n",
      "[145]: 0/3614\n",
      "[146]: 5045/0\n",
      "[147]: 0/7251\n",
      "[148]: 7680/0\n",
      "[149]: 0/6528\n",
      "[150]: 512/0\n",
      "[152]: 4323/423\n",
      "[153]: 6762/0\n",
      "[154]: 2273/0\n",
      "[155]: 5211/6519\n",
      "[157]: 5996/0\n",
      "[158]: 10432/8058\n",
      "[160]: 0/3608\n",
      "[164]: 0/3902\n",
      "[165]: 0/7358\n",
      "[168]: 0/5772\n",
      "[171]: 0/9\n",
      "[172]: 0/902\n",
      "[174]: 7255/0\n",
      "[176]: 6772/0\n",
      "[178]: 0/6776\n",
      "[179]: 5698/0\n",
      "[180]: 2403/0\n",
      "[181]: 407/0\n",
      "[185]: 6096/4642\n",
      "[189]: 0/7726\n",
      "[191]: 0/17\n",
      "[192]: 4364/323\n",
      "[193]: 1582/0\n",
      "[195]: 6907/0\n",
      "[197]: 8007/5209\n",
      "[199]: 0/8993\n",
      "[200]: 0/2122\n",
      "[201]: 0/1665\n",
      "[203]: 0/6065\n",
      "[204]: 3794/140\n",
      "[206]: 0/5844\n",
      "[208]: 0/8960\n",
      "[209]: 6224/0\n",
      "[210]: 650/0\n",
      "[212]: 0/4751\n",
      "[213]: 0/2652\n",
      "[218]: 0/6299\n",
      "[221]: 0/4203\n",
      "[222]: 2795/0\n",
      "[224]: 4326/0\n",
      "[226]: 0/7842\n",
      "[228]: 0/6943\n",
      "[229]: 6444/0\n",
      "[233]: 2911/0\n",
      "[234]: 1039/2117\n",
      "[238]: 5894/0\n",
      "[239]: 5940/5981\n",
      "[241]: 704/0\n",
      "[243]: 4746/0\n",
      "[244]: 0/1392\n",
      "[248]: 7329/0\n",
      "[250]: 139/0\n",
      "[251]: 56/0\n",
      "[252]: 905/0\n",
      "[253]: 0/1423\n",
      "[255]: 8758/0\n",
      "[256]: 7180/6344\n",
      "[258]: 0/5167\n",
      "[260]: 397/0\n",
      "[261]: 3333/903\n",
      "[264]: 0/810\n",
      "[266]: 5308/0\n",
      "[267]: 9168/0\n",
      "[269]: 0/8534\n",
      "[272]: 1061/1207\n",
      "[275]: 6587/0\n",
      "[281]: 0/2251\n",
      "[286]: 0/8174\n",
      "[287]: 0/6864\n",
      "[289]: 6462/0\n",
      "[291]: 29/0\n",
      "[292]: 0/6476\n",
      "[293]: 0/4350\n",
      "[296]: 0/10574\n",
      "[297]: 0/6076\n",
      "[298]: 0/7709\n",
      "[300]: 1648/779\n",
      "[301]: 0/657\n",
      "[302]: 2/3994\n",
      "[303]: 4171/0\n",
      "[304]: 37/1269\n",
      "[305]: 0/6764\n",
      "[306]: 0/8194\n",
      "[307]: 0/8026\n",
      "[308]: 8471/0\n",
      "[313]: 65/4500\n",
      "[314]: 5625/0\n",
      "[321]: 0/6388\n",
      "[322]: 0/7848\n",
      "[323]: 0/3340\n",
      "[324]: 0/4869\n",
      "[326]: 0/6565\n",
      "[327]: 0/4071\n",
      "[328]: 0/7347\n",
      "[329]: 0/5246\n",
      "[330]: 0/1163\n",
      "[332]: 0/2572\n",
      "[333]: 5941/0\n",
      "[334]: 0/1931\n",
      "[335]: 0/8999\n",
      "[338]: 7817/0\n",
      "[339]: 0/7744\n",
      "[340]: 1913/0\n",
      "[341]: 0/988\n",
      "[345]: 5935/0\n",
      "[347]: 6728/6428\n",
      "[349]: 7525/0\n",
      "[350]: 0/65\n",
      "[352]: 4884/0\n",
      "[355]: 0/9022\n",
      "[357]: 7686/0\n",
      "[358]: 7227/6387\n",
      "[361]: 2903/0\n",
      "[362]: 6076/0\n",
      "[364]: 0/6082\n",
      "[366]: 0/10008\n",
      "[367]: 7677/0\n",
      "[368]: 0/8870\n",
      "[369]: 0/8305\n",
      "[372]: 3069/0\n",
      "[374]: 324/171\n",
      "[376]: 7655/0\n",
      "[377]: 7875/0\n",
      "[378]: 7441/8784\n",
      "[379]: 0/8475\n",
      "[380]: 0/1345\n",
      "[381]: 3537/0\n",
      "[382]: 0/2876\n",
      "[384]: 4228/0\n",
      "[385]: 0/9992\n",
      "[386]: 5183/0\n",
      "[387]: 0/7534\n",
      "[388]: 7425/4972\n",
      "[389]: 7189/0\n",
      "[390]: 0/1360\n",
      "[391]: 926/570\n",
      "[393]: 1777/0\n",
      "[396]: 6754/0\n",
      "[397]: 10143/0\n",
      "[398]: 7842/0\n",
      "[402]: 0/6867\n",
      "[403]: 395/0\n",
      "[407]: 0/8586\n",
      "[410]: 0/287\n",
      "[412]: 6432/0\n",
      "[414]: 7735/39\n",
      "[417]: 7031/0\n",
      "[418]: 6459/0\n",
      "[419]: 0/5076\n",
      "[420]: 0/4612\n",
      "[421]: 1521/403\n",
      "[422]: 0/5232\n",
      "[423]: 0/2389\n",
      "[425]: 8288/6047\n",
      "[427]: 0/8566\n",
      "[428]: 0/7893\n",
      "[431]: 0/190\n",
      "[432]: 0/1443\n",
      "[433]: 164/0\n",
      "[434]: 0/3645\n",
      "[436]: 0/7801\n",
      "[438]: 0/6212\n",
      "[439]: 0/9029\n",
      "[444]: 139/3416\n",
      "[449]: 6495/0\n",
      "[451]: 4222/0\n",
      "[452]: 0/3784\n",
      "[453]: 0/64\n",
      "[454]: 0/56\n",
      "[456]: 5858/0\n",
      "[457]: 0/6373\n",
      "[460]: 1414/3391\n",
      "[462]: 570/5\n",
      "[463]: 1505/1616\n",
      "[464]: 3609/87\n",
      "[465]: 0/8024\n",
      "[467]: 0/6510\n",
      "[468]: 0/8828\n",
      "[470]: 5500/0\n",
      "[471]: 3659/0\n",
      "[473]: 0/1879\n",
      "[475]: 6534/0\n",
      "[476]: 4969/0\n",
      "[478]: 0/5190\n",
      "[479]: 5097/0\n",
      "[480]: 1238/0\n",
      "[481]: 3295/0\n",
      "[486]: 5786/0\n",
      "[489]: 4320/0\n",
      "[491]: 3345/1825\n",
      "[494]: 0/6\n",
      "[499]: 0/8248\n"
     ]
    }
   ],
   "source": [
    "indices = np.argwhere(score == 0)\n",
    "\n",
    "for i in indices:\n",
    "    print('{i}: {predpix}/{maskpix}'.format(i=i,\n",
    "                                            maskpix = np.sum(data[i,mask,:,:]),\n",
    "                                            predpix = np.sum(data[i,pred,:,:])))\n"
   ]
  },
  {
   "cell_type": "code",
   "execution_count": 38,
   "metadata": {
    "collapsed": false
   },
   "outputs": [
    {
     "name": "stdout",
     "output_type": "stream",
     "text": [
      "[  7  88 166 279 318 375 392 498]\n"
     ]
    }
   ],
   "source": [
    "indices = np.argwhere(np.logical_and(score>0.6, score<1)).flatten()\n",
    "\n",
    "print(indices[:10])\n",
    "batch = uns.batch(tr[tr['validate']].iloc[indices[:10]])"
   ]
  },
  {
   "cell_type": "code",
   "execution_count": 39,
   "metadata": {
    "collapsed": false
   },
   "outputs": [
    {
     "data": {
      "text/html": [
       "<div>\n",
       "<table border=\"1\" class=\"dataframe\">\n",
       "  <thead>\n",
       "    <tr style=\"text-align: right;\">\n",
       "      <th></th>\n",
       "      <th>centcol</th>\n",
       "      <th>centrow</th>\n",
       "      <th>contH</th>\n",
       "      <th>contW</th>\n",
       "      <th>contour</th>\n",
       "      <th>contxmax</th>\n",
       "      <th>contxmin</th>\n",
       "      <th>contymax</th>\n",
       "      <th>contymin</th>\n",
       "      <th>hasmask</th>\n",
       "      <th>...</th>\n",
       "      <th>svdx1</th>\n",
       "      <th>svdy0</th>\n",
       "      <th>svdy1</th>\n",
       "      <th>unitcontour</th>\n",
       "      <th>sv0</th>\n",
       "      <th>sv1</th>\n",
       "      <th>sv2</th>\n",
       "      <th>sv3</th>\n",
       "      <th>train</th>\n",
       "      <th>validate</th>\n",
       "    </tr>\n",
       "  </thead>\n",
       "  <tbody>\n",
       "    <tr>\n",
       "      <th>56</th>\n",
       "      <td>0.525207</td>\n",
       "      <td>0.205669</td>\n",
       "      <td>0.112078</td>\n",
       "      <td>0.150055</td>\n",
       "      <td>[[162.001960784, 162.002231227, 160.175111361,...</td>\n",
       "      <td>0.279314</td>\n",
       "      <td>0.129259</td>\n",
       "      <td>0.584486</td>\n",
       "      <td>0.472409</td>\n",
       "      <td>True</td>\n",
       "      <td>...</td>\n",
       "      <td>0.011520</td>\n",
       "      <td>0.015190</td>\n",
       "      <td>0.246512</td>\n",
       "      <td>[[0.0736452229359, 0.0736456892166, 0.07049548...</td>\n",
       "      <td>-0.400658</td>\n",
       "      <td>-0.058990</td>\n",
       "      <td>0.015420</td>\n",
       "      <td>0.043366</td>\n",
       "      <td>False</td>\n",
       "      <td>True</td>\n",
       "    </tr>\n",
       "    <tr>\n",
       "      <th>412</th>\n",
       "      <td>NaN</td>\n",
       "      <td>NaN</td>\n",
       "      <td>NaN</td>\n",
       "      <td>NaN</td>\n",
       "      <td>NaN</td>\n",
       "      <td>NaN</td>\n",
       "      <td>NaN</td>\n",
       "      <td>NaN</td>\n",
       "      <td>NaN</td>\n",
       "      <td>False</td>\n",
       "      <td>...</td>\n",
       "      <td>NaN</td>\n",
       "      <td>NaN</td>\n",
       "      <td>NaN</td>\n",
       "      <td>NaN</td>\n",
       "      <td>NaN</td>\n",
       "      <td>NaN</td>\n",
       "      <td>NaN</td>\n",
       "      <td>NaN</td>\n",
       "      <td>False</td>\n",
       "      <td>True</td>\n",
       "    </tr>\n",
       "    <tr>\n",
       "      <th>772</th>\n",
       "      <td>0.663322</td>\n",
       "      <td>0.253193</td>\n",
       "      <td>0.186214</td>\n",
       "      <td>0.232765</td>\n",
       "      <td>[[218.001960784, 218.001999498, 214.889314298,...</td>\n",
       "      <td>0.375866</td>\n",
       "      <td>0.143100</td>\n",
       "      <td>0.762072</td>\n",
       "      <td>0.575859</td>\n",
       "      <td>True</td>\n",
       "      <td>...</td>\n",
       "      <td>0.134948</td>\n",
       "      <td>0.184672</td>\n",
       "      <td>0.369514</td>\n",
       "      <td>[[0.122672675228, 0.122672741976, 0.1173060433...</td>\n",
       "      <td>-0.662145</td>\n",
       "      <td>-0.039831</td>\n",
       "      <td>0.039133</td>\n",
       "      <td>0.033555</td>\n",
       "      <td>False</td>\n",
       "      <td>True</td>\n",
       "    </tr>\n",
       "    <tr>\n",
       "      <th>1266</th>\n",
       "      <td>0.550517</td>\n",
       "      <td>0.306434</td>\n",
       "      <td>0.187938</td>\n",
       "      <td>0.215539</td>\n",
       "      <td>[[239.001960784, 237.925789717, 234.024820246,...</td>\n",
       "      <td>0.412072</td>\n",
       "      <td>0.196533</td>\n",
       "      <td>0.646555</td>\n",
       "      <td>0.458616</td>\n",
       "      <td>True</td>\n",
       "      <td>...</td>\n",
       "      <td>0.187830</td>\n",
       "      <td>0.257426</td>\n",
       "      <td>0.311084</td>\n",
       "      <td>[[0.105638826357, 0.103783359, 0.0970575495667...</td>\n",
       "      <td>-0.608764</td>\n",
       "      <td>0.067207</td>\n",
       "      <td>0.027628</td>\n",
       "      <td>0.061462</td>\n",
       "      <td>False</td>\n",
       "      <td>True</td>\n",
       "    </tr>\n",
       "    <tr>\n",
       "      <th>1483</th>\n",
       "      <td>0.702973</td>\n",
       "      <td>0.406429</td>\n",
       "      <td>0.137939</td>\n",
       "      <td>0.215729</td>\n",
       "      <td>[[298.001960784, 298.116018562, 294.0811317, 2...</td>\n",
       "      <td>0.513993</td>\n",
       "      <td>0.298264</td>\n",
       "      <td>0.770694</td>\n",
       "      <td>0.632755</td>\n",
       "      <td>True</td>\n",
       "      <td>...</td>\n",
       "      <td>0.082459</td>\n",
       "      <td>0.144264</td>\n",
       "      <td>0.260882</td>\n",
       "      <td>[[0.107367276674, 0.107563928016, 0.1006072265...</td>\n",
       "      <td>-0.550337</td>\n",
       "      <td>-0.013145</td>\n",
       "      <td>-0.020452</td>\n",
       "      <td>-0.008133</td>\n",
       "      <td>False</td>\n",
       "      <td>True</td>\n",
       "    </tr>\n",
       "    <tr>\n",
       "      <th>1778</th>\n",
       "      <td>0.548681</td>\n",
       "      <td>0.209298</td>\n",
       "      <td>0.153455</td>\n",
       "      <td>0.258627</td>\n",
       "      <td>[[198.001960784, 197.076271617, 191.21884847, ...</td>\n",
       "      <td>0.341383</td>\n",
       "      <td>0.082756</td>\n",
       "      <td>0.625865</td>\n",
       "      <td>0.472410</td>\n",
       "      <td>True</td>\n",
       "      <td>...</td>\n",
       "      <td>0.087017</td>\n",
       "      <td>0.163451</td>\n",
       "      <td>0.288425</td>\n",
       "      <td>[[0.132084395002, 0.130488379196, 0.1203893737...</td>\n",
       "      <td>-0.637512</td>\n",
       "      <td>0.016726</td>\n",
       "      <td>-0.061397</td>\n",
       "      <td>0.004697</td>\n",
       "      <td>False</td>\n",
       "      <td>True</td>\n",
       "    </tr>\n",
       "    <tr>\n",
       "      <th>1883</th>\n",
       "      <td>NaN</td>\n",
       "      <td>NaN</td>\n",
       "      <td>NaN</td>\n",
       "      <td>NaN</td>\n",
       "      <td>NaN</td>\n",
       "      <td>NaN</td>\n",
       "      <td>NaN</td>\n",
       "      <td>NaN</td>\n",
       "      <td>NaN</td>\n",
       "      <td>False</td>\n",
       "      <td>...</td>\n",
       "      <td>NaN</td>\n",
       "      <td>NaN</td>\n",
       "      <td>NaN</td>\n",
       "      <td>NaN</td>\n",
       "      <td>NaN</td>\n",
       "      <td>NaN</td>\n",
       "      <td>NaN</td>\n",
       "      <td>NaN</td>\n",
       "      <td>False</td>\n",
       "      <td>True</td>\n",
       "    </tr>\n",
       "    <tr>\n",
       "      <th>2498</th>\n",
       "      <td>NaN</td>\n",
       "      <td>NaN</td>\n",
       "      <td>NaN</td>\n",
       "      <td>NaN</td>\n",
       "      <td>NaN</td>\n",
       "      <td>NaN</td>\n",
       "      <td>NaN</td>\n",
       "      <td>NaN</td>\n",
       "      <td>NaN</td>\n",
       "      <td>False</td>\n",
       "      <td>...</td>\n",
       "      <td>NaN</td>\n",
       "      <td>NaN</td>\n",
       "      <td>NaN</td>\n",
       "      <td>NaN</td>\n",
       "      <td>NaN</td>\n",
       "      <td>NaN</td>\n",
       "      <td>NaN</td>\n",
       "      <td>NaN</td>\n",
       "      <td>False</td>\n",
       "      <td>True</td>\n",
       "    </tr>\n",
       "  </tbody>\n",
       "</table>\n",
       "<p>8 rows × 42 columns</p>\n",
       "</div>"
      ],
      "text/plain": [
       "       centcol   centrow     contH     contW  \\\n",
       "56    0.525207  0.205669  0.112078  0.150055   \n",
       "412        NaN       NaN       NaN       NaN   \n",
       "772   0.663322  0.253193  0.186214  0.232765   \n",
       "1266  0.550517  0.306434  0.187938  0.215539   \n",
       "1483  0.702973  0.406429  0.137939  0.215729   \n",
       "1778  0.548681  0.209298  0.153455  0.258627   \n",
       "1883       NaN       NaN       NaN       NaN   \n",
       "2498       NaN       NaN       NaN       NaN   \n",
       "\n",
       "                                                contour  contxmax  contxmin  \\\n",
       "56    [[162.001960784, 162.002231227, 160.175111361,...  0.279314  0.129259   \n",
       "412                                                 NaN       NaN       NaN   \n",
       "772   [[218.001960784, 218.001999498, 214.889314298,...  0.375866  0.143100   \n",
       "1266  [[239.001960784, 237.925789717, 234.024820246,...  0.412072  0.196533   \n",
       "1483  [[298.001960784, 298.116018562, 294.0811317, 2...  0.513993  0.298264   \n",
       "1778  [[198.001960784, 197.076271617, 191.21884847, ...  0.341383  0.082756   \n",
       "1883                                                NaN       NaN       NaN   \n",
       "2498                                                NaN       NaN       NaN   \n",
       "\n",
       "      contymax  contymin hasmask   ...        svdx1     svdy0     svdy1  \\\n",
       "56    0.584486  0.472409    True   ...     0.011520  0.015190  0.246512   \n",
       "412        NaN       NaN   False   ...          NaN       NaN       NaN   \n",
       "772   0.762072  0.575859    True   ...     0.134948  0.184672  0.369514   \n",
       "1266  0.646555  0.458616    True   ...     0.187830  0.257426  0.311084   \n",
       "1483  0.770694  0.632755    True   ...     0.082459  0.144264  0.260882   \n",
       "1778  0.625865  0.472410    True   ...     0.087017  0.163451  0.288425   \n",
       "1883       NaN       NaN   False   ...          NaN       NaN       NaN   \n",
       "2498       NaN       NaN   False   ...          NaN       NaN       NaN   \n",
       "\n",
       "                                            unitcontour       sv0       sv1  \\\n",
       "56    [[0.0736452229359, 0.0736456892166, 0.07049548... -0.400658 -0.058990   \n",
       "412                                                 NaN       NaN       NaN   \n",
       "772   [[0.122672675228, 0.122672741976, 0.1173060433... -0.662145 -0.039831   \n",
       "1266  [[0.105638826357, 0.103783359, 0.0970575495667... -0.608764  0.067207   \n",
       "1483  [[0.107367276674, 0.107563928016, 0.1006072265... -0.550337 -0.013145   \n",
       "1778  [[0.132084395002, 0.130488379196, 0.1203893737... -0.637512  0.016726   \n",
       "1883                                                NaN       NaN       NaN   \n",
       "2498                                                NaN       NaN       NaN   \n",
       "\n",
       "           sv2       sv3  train validate  \n",
       "56    0.015420  0.043366  False     True  \n",
       "412        NaN       NaN  False     True  \n",
       "772   0.039133  0.033555  False     True  \n",
       "1266  0.027628  0.061462  False     True  \n",
       "1483 -0.020452 -0.008133  False     True  \n",
       "1778 -0.061397  0.004697  False     True  \n",
       "1883       NaN       NaN  False     True  \n",
       "2498       NaN       NaN  False     True  \n",
       "\n",
       "[8 rows x 42 columns]"
      ]
     },
     "execution_count": 39,
     "metadata": {},
     "output_type": "execute_result"
    }
   ],
   "source": [
    "tr[tr['validate']].iloc[indices[:10]]"
   ]
  },
  {
   "cell_type": "code",
   "execution_count": null,
   "metadata": {
    "collapsed": false
   },
   "outputs": [],
   "source": [
    "def plot_pred_mask(idx, ax=None):\n",
    "    if ax is None:\n",
    "        fig, ax = plt.subplots(figsize=(8,6))    \n",
    "    ax.imshow(data[idx,pred,:,:], alpha=0.5, cmap=plt.cm.summer)\n",
    "    ax.imshow(data[idx,mask,:,:], alpha=0.5, cmap=plt.cm.gray)\n",
    "    ax.set_title(score[idx])  \n",
    "\n",
    "for i,j in enumerate(indices[:10]):\n",
    "    imgpair = batch.pop()\n",
    "    fig, ax = plt.subplots(1,2, figsize=(8,6))\n",
    "    plot_pred_mask(j, ax[0])\n",
    "    imgpair.plot(ax=ax[1])\n",
    "    \n",
    "    "
   ]
  },
  {
   "cell_type": "code",
   "execution_count": 33,
   "metadata": {
    "collapsed": false
   },
   "outputs": [
    {
     "data": {
      "image/png": "[encoded data removed]",
      "text/plain": [
       "<matplotlib.figure.Figure at 0x7f83eb45d6a0>"
      ]
     },
     "metadata": {},
     "output_type": "display_data"
    },
    {
     "data": {
      "image/png": "[encoded data removed]",
      "text/plain": [
       "<matplotlib.figure.Figure at 0x7f83eb3d7278>"
      ]
     },
     "metadata": {},
     "output_type": "display_data"
    },
    {
     "data": {
      "image/png": "[encoded data removed]",
      "text/plain": [
       "<matplotlib.figure.Figure at 0x7f83eb05fbe0>"
      ]
     },
     "metadata": {},
     "output_type": "display_data"
    },
    {
     "data": {
      "image/png": "[encoded data removed]",
      "text/plain": [
       "<matplotlib.figure.Figure at 0x7f83eb39d6a0>"
      ]
     },
     "metadata": {},
     "output_type": "display_data"
    },
    {
     "data": {
      "image/png": "[encoded data removed]",
      "text/plain": [
       "<matplotlib.figure.Figure at 0x7f83e92747f0>"
      ]
     },
     "metadata": {},
     "output_type": "display_data"
    },
    {
     "data": {
      "image/png": "[encoded data removed]",
      "text/plain": [
       "<matplotlib.figure.Figure at 0x7f83eaf1a400>"
      ]
     },
     "metadata": {},
     "output_type": "display_data"
    },
    {
     "data": {
      "image/png": "[encoded data removed]",
      "text/plain": [
       "<matplotlib.figure.Figure at 0x7f83eb2c0a20>"
      ]
     },
     "metadata": {},
     "output_type": "display_data"
    },
    {
     "data": {
      "image/png": "[encoded data removed]",
      "text/plain": [
       "<matplotlib.figure.Figure at 0x7f83eb318a90>"
      ]
     },
     "metadata": {},
     "output_type": "display_data"
    },
    {
     "data": {
      "image/png": "[encoded data removed]",
      "text/plain": [
       "<matplotlib.figure.Figure at 0x7f83eb1bc390>"
      ]
     },
     "metadata": {},
     "output_type": "display_data"
    },
    {
     "data": {
      "image/png": "[encoded data removed]",
      "text/plain": [
       "<matplotlib.figure.Figure at 0x7f83eb1ffdd8>"
      ]
     },
     "metadata": {},
     "output_type": "display_data"
    }
   ],
   "source": [
    "for i in range(10):\n",
    "    plot_pred_mask(i)"
   ]
  },
  {
   "cell_type": "code",
   "execution_count": null,
   "metadata": {
    "collapsed": true
   },
   "outputs": [],
   "source": []
  }
 ],
 "metadata": {
  "kernelspec": {
   "display_name": "Python 3",
   "language": "python",
   "name": "python3"
  },
  "language_info": {
   "codemirror_mode": {
    "name": "ipython",
    "version": 3
   },
   "file_extension": ".py",
   "mimetype": "text/x-python",
   "name": "python",
   "nbconvert_exporter": "python",
   "pygments_lexer": "ipython3",
   "version": "3.5.2"
  }
 },
 "nbformat": 4,
 "nbformat_minor": 0
}
