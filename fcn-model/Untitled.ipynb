{
 "cells": [
  {
   "cell_type": "markdown",
   "metadata": {},
   "source": [
    "# visualize"
   ]
  },
  {
   "cell_type": "code",
   "execution_count": null,
   "metadata": {
    "collapsed": true
   },
   "outputs": [],
   "source": [
    "plt.imshow(np.reshape(np.swapaxes(data_dict['conv1_1'][0][:,:,0,:], 0,1),(24,24), order='C'),  cmap=plt.cm.coolwarm, interpolation='none')\n",
    "plt.xticks(np.arange(0,23,3)-.5, np.arange(8))\n",
    "plt.yticks(np.arange(0,23,3)-.5, np.arange(8))\n",
    "plt.grid(linestyle='solid')"
   ]
  }
 ],
 "metadata": {
  "kernelspec": {
   "display_name": "Python 3",
   "language": "python",
   "name": "python3"
  }
 },
 "nbformat": 4,
 "nbformat_minor": 0
}
