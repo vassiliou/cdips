{
 "cells": [
  {
   "cell_type": "code",
   "execution_count": 1,
   "metadata": {
    "collapsed": false
   },
   "outputs": [],
   "source": [
    "import numpy as np\n",
    "import pandas as pd\n",
    "import tensorflow as tf\n",
    "import fcn16_vgg\n",
    "import bottled_fcn\n",
    "from bottled_fcn import bottledFCN16"
   ]
  },
  {
   "cell_type": "code",
   "execution_count": 2,
   "metadata": {
    "collapsed": true
   },
   "outputs": [],
   "source": [
    "# start a TensorFlow session"
   ]
  },
  {
   "cell_type": "code",
   "execution_count": 3,
   "metadata": {
    "collapsed": false
   },
   "outputs": [],
   "source": [
    "sess=tf.InteractiveSession()"
   ]
  },
  {
   "cell_type": "code",
   "execution_count": 4,
   "metadata": {
    "collapsed": true
   },
   "outputs": [],
   "source": [
    "# load VGG weights "
   ]
  },
  {
   "cell_type": "code",
   "execution_count": 5,
   "metadata": {
    "collapsed": false
   },
   "outputs": [
    {
     "name": "stdout",
     "output_type": "stream",
     "text": [
      "npy file loaded\n"
     ]
    }
   ],
   "source": [
    "net = bottledFCN16(vgg_path=\"../tensorflow-fcn/vgg16.npy\")"
   ]
  },
  {
   "cell_type": "code",
   "execution_count": 6,
   "metadata": {
    "collapsed": true
   },
   "outputs": [],
   "source": [
    "# placeholders for fc6 and pool4 inputs"
   ]
  },
  {
   "cell_type": "code",
   "execution_count": 7,
   "metadata": {
    "collapsed": false
   },
   "outputs": [],
   "source": [
    "fc6_input = tf.placeholder(tf.float32,[None,14,19,4096])\n",
    "pool4_input = tf.placeholder(tf.float32,[None,27,37,512])\n",
    "inputs=(fc6_input,pool4_input)"
   ]
  },
  {
   "cell_type": "code",
   "execution_count": 8,
   "metadata": {
    "collapsed": true
   },
   "outputs": [],
   "source": [
    "# build the remaining layers of the net"
   ]
  },
  {
   "cell_type": "code",
   "execution_count": 9,
   "metadata": {
    "collapsed": false
   },
   "outputs": [
    {
     "name": "stdout",
     "output_type": "stream",
     "text": [
      "Layer name: fc7\n",
      "Layer shape: [1, 1, 4096, 4096]\n"
     ]
    }
   ],
   "source": [
    "with tf.name_scope('vgg_net') as scope:\n",
    "    net.build(inputs,train=False,num_classes=2,random_init_fc8=True)"
   ]
  },
  {
   "cell_type": "code",
   "execution_count": 10,
   "metadata": {
    "collapsed": true
   },
   "outputs": [],
   "source": [
    "# test that things are connected up consistently: evaluate output\n",
    "# on a minibatch"
   ]
  },
  {
   "cell_type": "code",
   "execution_count": 11,
   "metadata": {
    "collapsed": true
   },
   "outputs": [],
   "source": [
    "debug_batch_1=np.load('/Users/gus/CDIPS/fc6_batch_1.bin.npy')"
   ]
  },
  {
   "cell_type": "code",
   "execution_count": 12,
   "metadata": {
    "collapsed": false
   },
   "outputs": [
    {
     "data": {
      "text/plain": [
       "(3, 14, 19, 4096)"
      ]
     },
     "execution_count": 12,
     "metadata": {},
     "output_type": "execute_result"
    }
   ],
   "source": [
    "debug_batch_1.shape"
   ]
  },
  {
   "cell_type": "code",
   "execution_count": 13,
   "metadata": {
    "collapsed": true
   },
   "outputs": [],
   "source": [
    "pool_debug=np.zeros([3,27,37,512])"
   ]
  },
  {
   "cell_type": "code",
   "execution_count": 14,
   "metadata": {
    "collapsed": false
   },
   "outputs": [],
   "source": [
    "sess.run(tf.initialize_all_variables())"
   ]
  },
  {
   "cell_type": "code",
   "execution_count": 16,
   "metadata": {
    "collapsed": false
   },
   "outputs": [
    {
     "name": "stdout",
     "output_type": "stream",
     "text": [
      "CPU times: user 2.82 s, sys: 247 ms, total: 3.06 s\n",
      "Wall time: 1.06 s\n"
     ]
    },
    {
     "data": {
      "text/plain": [
       "array([[[[ 0.20310397, -0.31988883],\n",
       "         [ 0.21299702, -0.3334547 ],\n",
       "         [ 0.21967961, -0.33994845],\n",
       "         ..., \n",
       "         [ 0.16030812, -0.35780481],\n",
       "         [ 0.16492906, -0.3549135 ],\n",
       "         [ 0.16955002, -0.3520222 ]],\n",
       "\n",
       "        [[ 0.21214093, -0.33486441],\n",
       "         [ 0.22247449, -0.34907693],\n",
       "         [ 0.22945505, -0.35589781],\n",
       "         ..., \n",
       "         [ 0.16719554, -0.3747831 ],\n",
       "         [ 0.17201354, -0.3717483 ],\n",
       "         [ 0.17683154, -0.36871353]],\n",
       "\n",
       "        [[ 0.21711136, -0.34417754],\n",
       "         [ 0.22768767, -0.35880819],\n",
       "         [ 0.23483309, -0.36586443],\n",
       "         ..., \n",
       "         [ 0.17062792, -0.38565549],\n",
       "         [ 0.17554191, -0.38252029],\n",
       "         [ 0.18045588, -0.37938505]],\n",
       "\n",
       "        ..., \n",
       "        [[-0.15436158, -0.15169455],\n",
       "         [-0.16093509, -0.1572631 ],\n",
       "         [-0.16412334, -0.15861344],\n",
       "         ..., \n",
       "         [-0.01240176, -0.54895222],\n",
       "         [-0.00888386, -0.54909003],\n",
       "         [-0.00536598, -0.54922777]],\n",
       "\n",
       "        [[-0.15457331, -0.15100759],\n",
       "         [-0.16115618, -0.15651169],\n",
       "         [-0.16434945, -0.15777747],\n",
       "         ..., \n",
       "         [-0.00895121, -0.54875088],\n",
       "         [-0.00552861, -0.54889858],\n",
       "         [-0.00210601, -0.54904628]],\n",
       "\n",
       "        [[-0.15478502, -0.15032062],\n",
       "         [-0.16137724, -0.15576027],\n",
       "         [-0.16457555, -0.15694147],\n",
       "         ..., \n",
       "         [-0.00550066, -0.54854953],\n",
       "         [-0.00217335, -0.54870713],\n",
       "         [ 0.00115395, -0.54886484]]],\n",
       "\n",
       "\n",
       "       [[[ 0.14364567, -0.24873552],\n",
       "         [ 0.15125284, -0.26106936],\n",
       "         [ 0.1571997 , -0.26968956],\n",
       "         ..., \n",
       "         [ 0.14630494, -0.892259  ],\n",
       "         [ 0.14783719, -0.89276171],\n",
       "         [ 0.14936945, -0.89326441]],\n",
       "\n",
       "        [[ 0.14879209, -0.26077443],\n",
       "         [ 0.15667675, -0.2736879 ],\n",
       "         [ 0.16284658, -0.2826907 ],\n",
       "         ..., \n",
       "         [ 0.15316272, -0.92994928],\n",
       "         [ 0.15476057, -0.93050152],\n",
       "         [ 0.15635845, -0.93105376]],\n",
       "\n",
       "        [[ 0.14981744, -0.26880485],\n",
       "         [ 0.15776631, -0.28208187],\n",
       "         [ 0.16399844, -0.29129365],\n",
       "         ..., \n",
       "         [ 0.15743923, -0.94776487],\n",
       "         [ 0.15906948, -0.94838375],\n",
       "         [ 0.16069973, -0.94900256]],\n",
       "\n",
       "        ..., \n",
       "        [[ 0.18413684, -0.26576495],\n",
       "         [ 0.1929148 , -0.2749323 ],\n",
       "         [ 0.1985909 , -0.27612084],\n",
       "         ..., \n",
       "         [-0.38728568, -0.41920498],\n",
       "         [-0.38920748, -0.41329744],\n",
       "         [-0.39112929, -0.40738988]],\n",
       "\n",
       "        [[ 0.18500583, -0.26385713],\n",
       "         [ 0.19383702, -0.27297318],\n",
       "         [ 0.19956352, -0.27418217],\n",
       "         ..., \n",
       "         [-0.38649493, -0.41661954],\n",
       "         [-0.38852718, -0.41072881],\n",
       "         [-0.39055946, -0.40483809]],\n",
       "\n",
       "        [[ 0.1858748 , -0.26194933],\n",
       "         [ 0.19475922, -0.27101403],\n",
       "         [ 0.20053616, -0.27224347],\n",
       "         ..., \n",
       "         [-0.38570422, -0.41403413],\n",
       "         [-0.38784692, -0.40816021],\n",
       "         [-0.38998964, -0.40228629]]],\n",
       "\n",
       "\n",
       "       [[[ 0.17715159, -0.31441721],\n",
       "         [ 0.18540539, -0.32793513],\n",
       "         [ 0.19048387, -0.33468601],\n",
       "         ..., \n",
       "         [-0.18410991, -0.35569489],\n",
       "         [-0.18060167, -0.35256222],\n",
       "         [-0.17709345, -0.34942958]],\n",
       "\n",
       "        [[ 0.18391879, -0.32912496],\n",
       "         [ 0.19249113, -0.34327319],\n",
       "         [ 0.19777007, -0.35033584],\n",
       "         ..., \n",
       "         [-0.19104688, -0.37225893],\n",
       "         [-0.18740784, -0.36896142],\n",
       "         [-0.18376881, -0.36566401]],\n",
       "\n",
       "        [[ 0.18602404, -0.33825549],\n",
       "         [ 0.19470096, -0.35279226],\n",
       "         [ 0.20005323, -0.36004287],\n",
       "         ..., \n",
       "         [-0.19304276, -0.38243899],\n",
       "         [-0.18936847, -0.37901396],\n",
       "         [-0.18569416, -0.37558895]],\n",
       "\n",
       "        ..., \n",
       "        [[-0.06724639, -0.69302773],\n",
       "         [-0.07066388, -0.72372222],\n",
       "         [-0.07316037, -0.74039966],\n",
       "         ..., \n",
       "         [-0.19465119, -0.95476913],\n",
       "         [-0.18323475, -0.95607501],\n",
       "         [-0.17181832, -0.95738089]],\n",
       "\n",
       "        [[-0.0651091 , -0.69344717],\n",
       "         [-0.06839955, -0.72416031],\n",
       "         [-0.07077987, -0.74084806],\n",
       "         ..., \n",
       "         [-0.19183704, -0.95678395],\n",
       "         [-0.18049696, -0.95817029],\n",
       "         [-0.16915691, -0.95955676]],\n",
       "\n",
       "        [[-0.0629718 , -0.69386655],\n",
       "         [-0.06613522, -0.72459835],\n",
       "         [-0.06839938, -0.74129641],\n",
       "         ..., \n",
       "         [-0.1890229 , -0.95879877],\n",
       "         [-0.1777592 , -0.9602657 ],\n",
       "         [-0.1664955 , -0.96173263]]]], dtype=float32)"
      ]
     },
     "execution_count": 16,
     "metadata": {},
     "output_type": "execute_result"
    }
   ],
   "source": [
    "time sess.run(net.upscore32,feed_dict={fc6_input:debug_batch_1,pool4_input:pool_debug})"
   ]
  },
  {
   "cell_type": "code",
   "execution_count": null,
   "metadata": {
    "collapsed": true
   },
   "outputs": [],
   "source": []
  },
  {
   "cell_type": "code",
   "execution_count": null,
   "metadata": {
    "collapsed": true
   },
   "outputs": [],
   "source": []
  }
 ],
 "metadata": {
  "anaconda-cloud": {},
  "kernelspec": {
   "display_name": "Python 3",
   "language": "python",
   "name": "python3"
  },
  "language_info": {
   "codemirror_mode": {
    "name": "ipython",
    "version": 3
   },
   "file_extension": ".py",
   "mimetype": "text/x-python",
   "name": "python",
   "nbconvert_exporter": "python",
   "pygments_lexer": "ipython3",
   "version": "3.5.2"
  }
 },
 "nbformat": 4,
 "nbformat_minor": 0
}
