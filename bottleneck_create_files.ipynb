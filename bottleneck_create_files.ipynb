{
 "cells": [
  {
   "cell_type": "code",
   "execution_count": 1,
   "metadata": {
    "collapsed": false
   },
   "outputs": [],
   "source": [
    "import bottlenecking as btl\n",
    "import tensorflow as tf\n",
    "import numpy as np\n",
    "import pandas as pd\n",
    "import uns\n",
    "from uns import training\n",
    "from fcn_model import fcn16_vgg"
   ]
  },
  {
   "cell_type": "code",
   "execution_count": 2,
   "metadata": {
    "collapsed": false
   },
   "outputs": [],
   "source": [
    "sess = tf.InteractiveSession()"
   ]
  },
  {
   "cell_type": "code",
   "execution_count": 3,
   "metadata": {
    "collapsed": true
   },
   "outputs": [],
   "source": [
    "batch_images = tf.placeholder(tf.float32,[None, 416, 576, 3])\n",
    "#batch_masks = tf.placeholder(tf.float32, [None, 420, 580, 2])  #Size 2 => \"yes\" and \"no\""
   ]
  },
  {
   "cell_type": "code",
   "execution_count": 4,
   "metadata": {
    "collapsed": true
   },
   "outputs": [],
   "source": [
    "vgg_path = '../tensorflow-fcn/vgg16.npy'"
   ]
  },
  {
   "cell_type": "code",
   "execution_count": 5,
   "metadata": {
    "collapsed": false
   },
   "outputs": [
    {
     "name": "stdout",
     "output_type": "stream",
     "text": [
      "npy file loaded\n"
     ]
    }
   ],
   "source": [
    "net = fcn16_vgg.FCN16VGG(vgg16_npy_path=vgg_path)"
   ]
  },
  {
   "cell_type": "code",
   "execution_count": 6,
   "metadata": {
    "collapsed": false
   },
   "outputs": [
    {
     "name": "stdout",
     "output_type": "stream",
     "text": [
      "Layer name: conv1_1\n",
      "Layer shape: (3, 3, 3, 64)\n",
      "Layer name: conv1_2\n",
      "Layer shape: (3, 3, 64, 64)\n",
      "Layer name: conv2_1\n",
      "Layer shape: (3, 3, 64, 128)\n",
      "Layer name: conv2_2\n",
      "Layer shape: (3, 3, 128, 128)\n",
      "Layer name: conv3_1\n",
      "Layer shape: (3, 3, 128, 256)\n",
      "Layer name: conv3_2\n",
      "Layer shape: (3, 3, 256, 256)\n",
      "Layer name: conv3_3\n",
      "Layer shape: (3, 3, 256, 256)\n",
      "Layer name: conv4_1\n",
      "Layer shape: (3, 3, 256, 512)\n",
      "Layer name: conv4_2\n",
      "Layer shape: (3, 3, 512, 512)\n",
      "Layer name: conv4_3\n",
      "Layer shape: (3, 3, 512, 512)\n",
      "Layer name: conv5_1\n",
      "Layer shape: (3, 3, 512, 512)\n",
      "Layer name: conv5_2\n",
      "Layer shape: (3, 3, 512, 512)\n",
      "Layer name: conv5_3\n",
      "Layer shape: (3, 3, 512, 512)\n",
      "Layer name: fc6\n",
      "Layer shape: [7, 7, 512, 4096]\n",
      "Layer name: fc7\n",
      "Layer shape: [1, 1, 4096, 4096]\n"
     ]
    }
   ],
   "source": [
    "with tf.name_scope(\"content_vgg\"):\n",
    "       net.build(batch_images, train=False, num_classes=2, random_init_fc8=True,debug=False)"
   ]
  },
  {
   "cell_type": "code",
   "execution_count": 7,
   "metadata": {
    "collapsed": false
   },
   "outputs": [],
   "source": [
    "bottleneck=[net.fc6, net.pool4]"
   ]
  },
  {
   "cell_type": "code",
   "execution_count": 8,
   "metadata": {
    "collapsed": false
   },
   "outputs": [
    {
     "data": {
      "text/plain": [
       "[13, 18, 4096]"
      ]
     },
     "execution_count": 8,
     "metadata": {},
     "output_type": "execute_result"
    }
   ],
   "source": [
    "btl.get_bottleneck_dims(bottleneck[0])"
   ]
  },
  {
   "cell_type": "code",
   "execution_count": 9,
   "metadata": {
    "collapsed": false
   },
   "outputs": [],
   "source": [
    "def build_batch_output_w_masks(imgs,masks,path,bottlenecks,sess):\n",
    "    \"\"\"writes a single batch to disk\"\"\"    \n",
    "    batch_size = imgs.shape[0]   \n",
    "    bottles = sess.run(bottlenecks, feed_dict={batch_images:imgs})\n",
    "    print('Finished running forward passes')\n",
    "    records = [b.reshape(batch_size, -1) for b in bottles]\n",
    "    records.append(masks.reshape(batch_size,-1))\n",
    "    flat_records = np.concatenate(records, axis=1)     \n",
    "    flat_records.astype('float32').tofile(path)\n",
    "    msg = 'Output data written to {file}'.format(file=path)\n",
    "    print(msg)\n",
    "\n",
    "\n",
    "def build_output_data(session,bottlenecks,batch_size,trainingData,target_dir,name='fc6pool4mask',debug=False):    \n",
    "    \"\"\"write a bunch of batches to disk\"\"\"\n",
    "    batches = btl.make_batches(trainingData,batch_size)\n",
    "    if debug == True:\n",
    "        batches = batches[:4]\n",
    "    for i,b in enumerate(batches):\n",
    "        #images = btl.load_batch(b)\n",
    "        images, masks = btl.load_batch(b)\n",
    "        filename = target_dir+name +'_batch_' + str(i+1)\n",
    "        #build_batch_output(images,filename,bottleneck,session)\n",
    "        build_batch_output_w_masks(images, masks,filename,bottlenecks,session)"
   ]
  },
  {
   "cell_type": "code",
   "execution_count": 10,
   "metadata": {
    "collapsed": false
   },
   "outputs": [
    {
     "name": "stdout",
     "output_type": "stream",
     "text": [
      "CPU times: user 2.21 s, sys: 1.63 s, total: 3.84 s\n",
      "Wall time: 3.87 s\n"
     ]
    }
   ],
   "source": [
    "time sess.run(tf.initialize_all_variables())"
   ]
  },
  {
   "cell_type": "code",
   "execution_count": null,
   "metadata": {
    "collapsed": false
   },
   "outputs": [
    {
     "name": "stdout",
     "output_type": "stream",
     "text": [
      "Finished running forward passes\n",
      "Output data written to ../bottleneck_files/fc6pool4mask_batch_1\n",
      "Finished running forward passes\n",
      "Output data written to ../bottleneck_files/fc6pool4mask_batch_2\n",
      "Finished running forward passes\n",
      "Output data written to ../bottleneck_files/fc6pool4mask_batch_3\n",
      "Finished running forward passes\n",
      "Output data written to ../bottleneck_files/fc6pool4mask_batch_4\n",
      "Finished running forward passes\n",
      "Output data written to ../bottleneck_files/fc6pool4mask_batch_5\n",
      "Finished running forward passes\n",
      "Output data written to ../bottleneck_files/fc6pool4mask_batch_6\n",
      "Finished running forward passes\n",
      "Output data written to ../bottleneck_files/fc6pool4mask_batch_7\n",
      "Finished running forward passes\n",
      "Output data written to ../bottleneck_files/fc6pool4mask_batch_8\n",
      "Finished running forward passes\n",
      "Output data written to ../bottleneck_files/fc6pool4mask_batch_9\n",
      "Finished running forward passes\n",
      "Output data written to ../bottleneck_files/fc6pool4mask_batch_10\n",
      "Finished running forward passes\n"
     ]
    }
   ],
   "source": [
    "build_output_data(sess,[net.fc6,net.pool4],4,training,'../bottleneck_files/')"
   ]
  },
  {
   "cell_type": "code",
   "execution_count": null,
   "metadata": {
    "collapsed": true
   },
   "outputs": [],
   "source": []
  }
 ],
 "metadata": {
  "anaconda-cloud": {},
  "kernelspec": {
   "display_name": "Python 3",
   "language": "python",
   "name": "python3"
  },
  "language_info": {
   "codemirror_mode": {
    "name": "ipython",
    "version": 3
   },
   "file_extension": ".py",
   "mimetype": "text/x-python",
   "name": "python",
   "nbconvert_exporter": "python",
   "pygments_lexer": "ipython3",
   "version": "3.5.2"
  }
 },
 "nbformat": 4,
 "nbformat_minor": 0
}
