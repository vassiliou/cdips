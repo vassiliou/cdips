{
 "cells": [
  {
   "cell_type": "code",
   "execution_count": 419,
   "metadata": {
    "collapsed": true
   },
   "outputs": [],
   "source": [
    "import numpy as np\n",
    "import matplotlib.pyplot as plt\n",
    "%matplotlib inline\n",
    "import scipy.spatial\n"
   ]
  },
  {
   "cell_type": "code",
   "execution_count": 426,
   "metadata": {
    "collapsed": false
   },
   "outputs": [],
   "source": [
    "eval_output1 = np.load('/Users/gus/CDIPS/fcn_eval_log/predictions_chunk_1.npy')\n",
    "eval_output2 = np.load('/Users/gus/CDIPS/fcn_eval_log/predictions_chunk_2.npy')\n",
    "eval_output3 = np.load('/Users/gus/CDIPS/fcn_eval_log/predictions_chunk_3.npy')\n",
    "eval_output4 = np.load('/Users/gus/CDIPS/fcn_eval_log/predictions_chunk_4.npy')\n"
   ]
  },
  {
   "cell_type": "code",
   "execution_count": 427,
   "metadata": {
    "collapsed": false
   },
   "outputs": [],
   "source": [
    "total_output = np.concatenate((eval_output1,eval_output2,eval_output3,eval_output4))"
   ]
  },
  {
   "cell_type": "code",
   "execution_count": 428,
   "metadata": {
    "collapsed": false
   },
   "outputs": [
    {
     "data": {
      "text/plain": [
       "(16, 2, 416, 576)"
      ]
     },
     "execution_count": 428,
     "metadata": {},
     "output_type": "execute_result"
    }
   ],
   "source": [
    "total_output.shape"
   ]
  },
  {
   "cell_type": "code",
   "execution_count": 429,
   "metadata": {
    "collapsed": false
   },
   "outputs": [
    {
     "data": {
      "text/plain": [
       "array([[False, False, False, ..., False, False, False],\n",
       "       [False, False, False, ..., False, False, False],\n",
       "       [False, False, False, ..., False, False, False],\n",
       "       ..., \n",
       "       [False, False, False, ..., False, False, False],\n",
       "       [False, False, False, ..., False, False, False],\n",
       "       [False, False, False, ..., False, False, False]], dtype=bool)"
      ]
     },
     "execution_count": 429,
     "metadata": {},
     "output_type": "execute_result"
    }
   ],
   "source": [
    "total_output[0,0,:,:]"
   ]
  },
  {
   "cell_type": "code",
   "execution_count": 207,
   "metadata": {
    "collapsed": false
   },
   "outputs": [],
   "source": []
  },
  {
   "cell_type": "code",
   "execution_count": 430,
   "metadata": {
    "collapsed": false
   },
   "outputs": [],
   "source": [
    "def compare(idx,records=total_output):\n",
    "    fig = plt.figure(figsize=(10,20))\n",
    "    ax1 = fig.add_subplot(221)\n",
    "    ax1.imshow(records[idx,0,:,:],cmap='Greys')\n",
    "    ax2 = fig.add_subplot(222)\n",
    "    ax2.imshow(records[idx,1,:,:],cmap='Greys')"
   ]
  },
  {
   "cell_type": "code",
   "execution_count": 431,
   "metadata": {
    "collapsed": false
   },
   "outputs": [
    {
     "data": {
      "image/png": "[encoded data removed]",
      "text/plain": [
       "<matplotlib.figure.Figure at 0x11e31b828>"
      ]
     },
     "metadata": {},
     "output_type": "display_data"
    }
   ],
   "source": [
    "compare(1)"
   ]
  },
  {
   "cell_type": "code",
   "execution_count": 174,
   "metadata": {
    "collapsed": false
   },
   "outputs": [],
   "source": [
    "def find_true_empties(arr):\n",
    "    arr=~arr.astype(bool)\n",
    "    truth = arr[:,1,:,:]\n",
    "    sums = np.sum(truth,axis=(1,2))\n",
    "    empty = (sums ==0)\n",
    "    return arr[empty,:,:,:]\n",
    "\n",
    "def find_pred_empties(arr):\n",
    "    arr=~arr.astype(bool)\n",
    "    truth = arr[:,0,:,:]\n",
    "    sums = np.sum(truth,axis=(1,2))\n",
    "    empty = (sums ==0)\n",
    "    return arr[empty,:,:,:]\n",
    "\n",
    "def find_false_empties(arr):\n",
    "    arr=~arr.astype(bool)\n",
    "    truth = arr[:,0,:,:]\n",
    "    pred = arr[:,1,:,:]\n",
    "    tsums = np.sum(truth,axis=(1,2))\n",
    "    psums=np.sum(pred,axis=(1,2))\n",
    "    empty = (tsums !=0) & (psums==0)\n",
    "    return arr[empty,:,:,:]\n",
    "    \n",
    "    \n",
    "def find_false_nonempties(arr):\n",
    "    arr=~arr.astype(bool)\n",
    "    truth = arr[:,0,:,:]\n",
    "    pred = arr[:,1,:,:]\n",
    "    tsums = np.sum(truth,axis=(1,2))\n",
    "    psums=np.sum(pred,axis=(1,2))\n",
    "    empty = (tsums ==0) & (psums!=0)\n",
    "    return arr[empty,:,:,:]"
   ]
  },
  {
   "cell_type": "code",
   "execution_count": 253,
   "metadata": {
    "collapsed": true
   },
   "outputs": [],
   "source": [
    "def ndice(pred_batch,label_batch,sh=(416,576)):\n",
    "      n_batch = pred_batch.shape[0]\n",
    "      preds = pred_batch.reshape([n_batch,sh[0],sh[1]])\n",
    "      labels = label_batch.reshape([n_batch,sh[0],sh[1]])\n",
    "      denoms = np.sum(preds,axis=(1,2)) + np.sum(labels,axis=(1,2))\n",
    "      cap = np.logical_and(preds, labels)\n",
    "      numerators = 2*np.sum(cap, axis=(1,2))\n",
    "      zero_denoms = np.where(denoms ==0)\n",
    "      nonzero_denoms = np.where (denoms !=0)\n",
    "      result = np.empty(denoms.shape)\n",
    "      result[zero_denoms] = 1\n",
    "      result[nonzero_denoms] = np.divide(numerators[nonzero_denoms],denoms[nonzero_denoms])\n",
    "      return result"
   ]
  },
  {
   "cell_type": "code",
   "execution_count": 432,
   "metadata": {
    "collapsed": true
   },
   "outputs": [],
   "source": [
    "sample_dice=ndice(total_output[:,0,:,:],total_output[:,1,:,:])"
   ]
  },
  {
   "cell_type": "code",
   "execution_count": 434,
   "metadata": {
    "collapsed": false
   },
   "outputs": [],
   "source": [
    "mean_dice=sample_dice.mean()"
   ]
  },
  {
   "cell_type": "code",
   "execution_count": 435,
   "metadata": {
    "collapsed": false
   },
   "outputs": [
    {
     "data": {
      "text/plain": [
       "0.78202685861803101"
      ]
     },
     "execution_count": 435,
     "metadata": {},
     "output_type": "execute_result"
    }
   ],
   "source": [
    "mean_dice"
   ]
  },
  {
   "cell_type": "code",
   "execution_count": 453,
   "metadata": {
    "collapsed": false
   },
   "outputs": [
    {
     "data": {
      "image/png": "[encoded data removed]",
      "text/plain": [
       "<matplotlib.figure.Figure at 0x130bbdc88>"
      ]
     },
     "metadata": {},
     "output_type": "display_data"
    }
   ],
   "source": [
    "compare(15)"
   ]
  },
  {
   "cell_type": "code",
   "execution_count": 411,
   "metadata": {
    "collapsed": false
   },
   "outputs": [],
   "source": [
    "def convex_hull(prediction,sh=(416,576)):\n",
    "    prediction=prediction.reshape(sh)\n",
    "    pts=[]\n",
    "    for i in range(sh[0]):\n",
    "        for j in range(sh[1]):\n",
    "            if prediction[i,j]==True:\n",
    "                pts.append(np.array([i,j]))\n",
    "    hull = scipy.spatial.ConvexHull(pts)\n",
    "    result=np.zeros((416,576))\n",
    "    #for p in hull:\n",
    "        #result[p[0],p[1]] = 1\n",
    "    #return result.astype(bool)\n",
    "    return hull"
   ]
  },
  {
   "cell_type": "code",
   "execution_count": 412,
   "metadata": {
    "collapsed": false
   },
   "outputs": [
    {
     "data": {
      "text/plain": [
       "235000"
      ]
     },
     "execution_count": 412,
     "metadata": {},
     "output_type": "execute_result"
    }
   ],
   "source": [
    "total_output[4,1,:,:].sum()"
   ]
  },
  {
   "cell_type": "code",
   "execution_count": 413,
   "metadata": {
    "collapsed": true
   },
   "outputs": [],
   "source": [
    "a=np.array([[1,2],[3,4]])"
   ]
  },
  {
   "cell_type": "code",
   "execution_count": 414,
   "metadata": {
    "collapsed": false
   },
   "outputs": [],
   "source": [
    "hull=convex_hull(bool_output[6,0,:,:])"
   ]
  },
  {
   "cell_type": "code",
   "execution_count": 418,
   "metadata": {
    "collapsed": false
   },
   "outputs": [
    {
     "data": {
      "image/png": "[encoded data removed]",
      "text/plain": [
       "<matplotlib.figure.Figure at 0x11ddeac50>"
      ]
     },
     "metadata": {},
     "output_type": "display_data"
    }
   ],
   "source": [
    "for simplex in hull.simplices:\n",
    "    plt.plot(hull.points[simplex, 0], hull.points[simplex, 1])"
   ]
  },
  {
   "cell_type": "code",
   "execution_count": 410,
   "metadata": {
    "collapsed": false
   },
   "outputs": [
    {
     "data": {
      "text/plain": [
       "<matplotlib.image.AxesImage at 0x11ddea2e8>"
      ]
     },
     "execution_count": 410,
     "metadata": {},
     "output_type": "execute_result"
    },
    {
     "data": {
      "image/png": "[encoded data removed]",
      "text/plain": [
       "<matplotlib.figure.Figure at 0x11b4d9c88>"
      ]
     },
     "metadata": {},
     "output_type": "display_data"
    }
   ],
   "source": [
    "plt.imshow(bool_output[6,0,:,:],cmap='Greys')"
   ]
  },
  {
   "cell_type": "code",
   "execution_count": null,
   "metadata": {
    "collapsed": true
   },
   "outputs": [],
   "source": []
  },
  {
   "cell_type": "code",
   "execution_count": null,
   "metadata": {
    "collapsed": true
   },
   "outputs": [],
   "source": []
  }
 ],
 "metadata": {
  "anaconda-cloud": {},
  "kernelspec": {
   "display_name": "Python [CDIPS]",
   "language": "python",
   "name": "Python [CDIPS]"
  },
  "language_info": {
   "codemirror_mode": {
    "name": "ipython",
    "version": 3
   },
   "file_extension": ".py",
   "mimetype": "text/x-python",
   "name": "python",
   "nbconvert_exporter": "python",
   "pygments_lexer": "ipython3",
   "version": "3.5.2"
  }
 },
 "nbformat": 4,
 "nbformat_minor": 0
}
